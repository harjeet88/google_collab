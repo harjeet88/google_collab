{
  "nbformat": 4,
  "nbformat_minor": 0,
  "metadata": {
    "colab": {
      "provenance": [],
      "authorship_tag": "ABX9TyO7tCHYOd3hxqciaWXSmS70",
      "include_colab_link": true
    },
    "kernelspec": {
      "name": "python3",
      "display_name": "Python 3"
    },
    "language_info": {
      "name": "python"
    }
  },
  "cells": [
    {
      "cell_type": "markdown",
      "metadata": {
        "id": "view-in-github",
        "colab_type": "text"
      },
      "source": [
        "<a href=\"https://colab.research.google.com/github/harjeet88/google_collab/blob/main/solution/lc/sql50/consec_numbers.ipynb\" target=\"_parent\"><img src=\"https://colab.research.google.com/assets/colab-badge.svg\" alt=\"Open In Colab\"/></a>"
      ]
    },
    {
      "cell_type": "code",
      "source": [
        "from google.colab import drive\n",
        "drive.mount('/content/drive')"
      ],
      "metadata": {
        "colab": {
          "base_uri": "https://localhost:8080/"
        },
        "id": "8F1kC7EGR7LY",
        "outputId": "0419696c-736e-4387-a95f-3784fa1dae91"
      },
      "execution_count": 1,
      "outputs": [
        {
          "output_type": "stream",
          "name": "stdout",
          "text": [
            "Mounted at /content/drive\n"
          ]
        }
      ]
    },
    {
      "cell_type": "code",
      "source": [
        "!chmod -R +x /content/drive/MyDrive/installs/"
      ],
      "metadata": {
        "id": "IrXNe2xuSQ_h"
      },
      "execution_count": 2,
      "outputs": []
    },
    {
      "cell_type": "code",
      "source": [
        "import os\n",
        "java_path = '/content/drive/MyDrive/installs/jdk-11.0.2/'\n",
        "os.environ['JAVA_HOME'] = java_path\n",
        "os.environ['PATH'] = os.environ['JAVA_HOME'] + '/bin:' + os.environ['PATH']\n",
        "# Verify installation\n",
        "!java -version\n",
        "!which java"
      ],
      "metadata": {
        "colab": {
          "base_uri": "https://localhost:8080/"
        },
        "id": "lX0o8H34SpgU",
        "outputId": "b5cc24fb-9a21-43aa-bd23-d394bfc7a1c9"
      },
      "execution_count": 3,
      "outputs": [
        {
          "output_type": "stream",
          "name": "stdout",
          "text": [
            "openjdk version \"11.0.2\" 2019-01-15\n",
            "OpenJDK Runtime Environment 18.9 (build 11.0.2+9)\n",
            "OpenJDK 64-Bit Server VM 18.9 (build 11.0.2+9, mixed mode)\n",
            "/content/drive/MyDrive/installs/jdk-11.0.2//bin/java\n"
          ]
        }
      ]
    },
    {
      "cell_type": "code",
      "execution_count": 4,
      "metadata": {
        "id": "0F9G3_cJRrDE"
      },
      "outputs": [],
      "source": [
        "import pyspark\n",
        "import os\n",
        "java_path = '/content/drive/MyDrive/installs/jdk-11.0.2/'\n",
        "os.environ['JAVA_HOME'] = java_path\n",
        "os.environ[\"SPARK_HOME\"] = \"drive/MyDrive/installs/spark-3.5.1-bin-hadoop3\"\n",
        "os.environ[\"PYSPARK_PYTHON\"] = \"python3\"\n",
        "os.environ[\"PYSPARK_DRIVER_PYTHON\"] = \"python3\""
      ]
    },
    {
      "cell_type": "code",
      "source": [
        "import sys\n",
        "sys.path.append('/content/drive/MyDrive/installs/py_package') # Replace with your actual path"
      ],
      "metadata": {
        "id": "BjU_YCRVRyvc"
      },
      "execution_count": 5,
      "outputs": []
    },
    {
      "cell_type": "code",
      "source": [
        "import findspark\n",
        "findspark.init()"
      ],
      "metadata": {
        "id": "GwqYDAhmSI3y"
      },
      "execution_count": 6,
      "outputs": []
    },
    {
      "cell_type": "code",
      "source": [
        "from pyspark.sql import SparkSession\n",
        "MAX_MEMORY=\"8g\"\n",
        "maven_coords = [\n",
        "    \"org.apache.spark:spark-avro_2.12:3.2.1\",\n",
        "    \"io.delta:delta-core_2.12:2.0.0rc1\",\n",
        "    \"org.xerial:sqlite-jdbc:3.36.0.3\",\n",
        "    \"graphframes:graphframes:0.8.2-spark3.2-s_2.12\",\n",
        "    \"com.acervera.osm4scala:osm4scala-spark3-shaded_2.12:1.0.8\",\n",
        "]\n",
        "\n",
        "spark = (pyspark.sql.SparkSession.builder.appName(\"MyApp\")\n",
        "    .config(\"spark.jars.packages\", \",\".join(maven_coords))\n",
        "    .config(\"spark.sql.extensions\", \"io.delta.sql.DeltaSparkSessionExtension\")\n",
        "    .config(\"spark.sql.catalog.spark_catalog\", \"org.apache.spark.sql.delta.catalog.DeltaCatalog\")\n",
        "    .config(\"spark.executor.memory\", MAX_MEMORY)\n",
        "    .config(\"spark.driver.memory\", MAX_MEMORY)\n",
        "    .enableHiveSupport()\n",
        "    .getOrCreate()\n",
        "    )"
      ],
      "metadata": {
        "id": "yCMoU01-SLUc"
      },
      "execution_count": 7,
      "outputs": []
    },
    {
      "cell_type": "code",
      "source": [
        "spark"
      ],
      "metadata": {
        "colab": {
          "base_uri": "https://localhost:8080/",
          "height": 221
        },
        "id": "nApQnNgqShB-",
        "outputId": "fc6f48a6-c99e-4374-de35-7842cc459bb9"
      },
      "execution_count": null,
      "outputs": [
        {
          "output_type": "execute_result",
          "data": {
            "text/plain": [
              "<pyspark.sql.session.SparkSession at 0x7e1b3120e230>"
            ],
            "text/html": [
              "\n",
              "            <div>\n",
              "                <p><b>SparkSession - hive</b></p>\n",
              "                \n",
              "        <div>\n",
              "            <p><b>SparkContext</b></p>\n",
              "\n",
              "            <p><a href=\"http://37a735430cda:4040\">Spark UI</a></p>\n",
              "\n",
              "            <dl>\n",
              "              <dt>Version</dt>\n",
              "                <dd><code>v3.5.1</code></dd>\n",
              "              <dt>Master</dt>\n",
              "                <dd><code>local[*]</code></dd>\n",
              "              <dt>AppName</dt>\n",
              "                <dd><code>MyApp</code></dd>\n",
              "            </dl>\n",
              "        </div>\n",
              "        \n",
              "            </div>\n",
              "        "
            ]
          },
          "metadata": {},
          "execution_count": 8
        }
      ]
    },
    {
      "cell_type": "code",
      "source": [
        "#"
      ],
      "metadata": {
        "id": "AcLJOxU53WpU"
      },
      "execution_count": null,
      "outputs": []
    },
    {
      "cell_type": "code",
      "source": [
        "# prompt: create and edit manually contents of a csv file to input data\n",
        "\n",
        "%%writefile /content/drive/MyDrive/data/leetcode_sql180/increment_data.csv\n",
        "id,num\n",
        "1,1\n",
        "2,1\n",
        "3,1\n",
        "4,9\n",
        "5,2\n",
        "6,1\n",
        "7,8\n",
        "8,4\n",
        "9,6\n",
        "10,10"
      ],
      "metadata": {
        "colab": {
          "base_uri": "https://localhost:8080/"
        },
        "id": "rJ7IbIJkJtP4",
        "outputId": "6904717f-882d-4f65-be00-1464525fd99a"
      },
      "execution_count": null,
      "outputs": [
        {
          "output_type": "stream",
          "name": "stdout",
          "text": [
            "Overwriting /content/drive/MyDrive/data/leetcode_sql180/increment_data.csv\n"
          ]
        }
      ]
    },
    {
      "cell_type": "code",
      "source": [
        "import pandas as pd\n",
        "import numpy as np\n",
        "\n",
        "def generate_sample_data(num_rows):\n",
        "    data = {'id': range(1, num_rows + 1)}\n",
        "\n",
        "    # Generate random numbers with some duplicates\n",
        "    num_values = np.random.randint(1, 10, size=num_rows)\n",
        "    data['num'] = num_values\n",
        "\n",
        "    df = pd.DataFrame(data)\n",
        "    return df\n",
        "\n",
        "# Specify the number of rows\n",
        "num_rows = 100\n",
        "\n",
        "# Generate the DataFrame\n",
        "df = generate_sample_data(num_rows)\n",
        "\n",
        "# Save the DataFrame to a CSV file\n",
        "df.to_csv('/content/drive/MyDrive/data/leetcode_sql180/increment_data.csv', index=False)"
      ],
      "metadata": {
        "id": "7t4SwSrkS9LR"
      },
      "execution_count": null,
      "outputs": []
    },
    {
      "cell_type": "code",
      "source": [
        "df = spark.read.csv('/content/drive/MyDrive/data/leetcode_sql180/increment_data.csv', header=True, inferSchema=True)\n",
        "df.show()"
      ],
      "metadata": {
        "colab": {
          "base_uri": "https://localhost:8080/"
        },
        "id": "Zswi5gvlJoCs",
        "outputId": "7f6fd598-bc42-4536-f77f-5c63452a2123"
      },
      "execution_count": 8,
      "outputs": [
        {
          "output_type": "stream",
          "name": "stdout",
          "text": [
            "+---+---+\n",
            "| id|num|\n",
            "+---+---+\n",
            "|  1|  1|\n",
            "|  2|  1|\n",
            "|  3|  1|\n",
            "|  4|  9|\n",
            "|  5|  2|\n",
            "|  6|  1|\n",
            "|  7|  8|\n",
            "|  8|  4|\n",
            "|  9|  6|\n",
            "| 10| 10|\n",
            "+---+---+\n",
            "\n"
          ]
        }
      ]
    },
    {
      "cell_type": "code",
      "source": [
        "df1=df\n",
        "df2=df"
      ],
      "metadata": {
        "id": "VNuuUtoJKw_w"
      },
      "execution_count": 9,
      "outputs": []
    },
    {
      "cell_type": "code",
      "source": [
        "#from pyspark.sql.functions import col, distinct\n",
        "from pyspark.sql.functions import col, countDistinct"
      ],
      "metadata": {
        "id": "H0xwfGm4LPV5"
      },
      "execution_count": 11,
      "outputs": []
    },
    {
      "cell_type": "code",
      "source": [
        "joined_df = df.alias(\"a\") \\\n",
        "             .join(df.alias(\"b\"), col(\"a.id\") - 1 == col(\"b.id\"), \"inner\") \\\n",
        "             .join(df.alias(\"c\"), col(\"a.id\") + 1 == col(\"c.id\"), \"inner\")"
      ],
      "metadata": {
        "id": "tEv77-7PzMDr"
      },
      "execution_count": 12,
      "outputs": []
    },
    {
      "cell_type": "code",
      "source": [
        "joined_df.show()\n"
      ],
      "metadata": {
        "colab": {
          "base_uri": "https://localhost:8080/"
        },
        "id": "9_3haHZvLdr6",
        "outputId": "992bc4dc-1bd2-4e14-d9b6-350cf7c0571b"
      },
      "execution_count": 13,
      "outputs": [
        {
          "output_type": "stream",
          "name": "stdout",
          "text": [
            "+---+---+---+---+---+---+\n",
            "| id|num| id|num| id|num|\n",
            "+---+---+---+---+---+---+\n",
            "|  2|  1|  1|  1|  3|  1|\n",
            "|  3|  1|  2|  1|  4|  9|\n",
            "|  4|  9|  3|  1|  5|  2|\n",
            "|  5|  2|  4|  9|  6|  1|\n",
            "|  6|  1|  5|  2|  7|  8|\n",
            "|  7|  8|  6|  1|  8|  4|\n",
            "|  8|  4|  7|  8|  9|  6|\n",
            "|  9|  6|  8|  4| 10| 10|\n",
            "+---+---+---+---+---+---+\n",
            "\n"
          ]
        }
      ]
    },
    {
      "cell_type": "code",
      "source": [
        "# Filter for rows where all three records have the same number\n",
        "filtered_df = joined_df.where(col(\"a.num\") == col(\"b.num\")) \\\n",
        "                       .where(col(\"a.num\") == col(\"c.num\"))\n",
        "\n",
        "# Select distinct consecutive numbers\n",
        "result_df = filtered_df.select(countDistinct(col(\"a.num\")).alias(\"ConsecutiveNums\"))\n",
        "\n",
        "# Show the result\n",
        "result_df.show()"
      ],
      "metadata": {
        "colab": {
          "base_uri": "https://localhost:8080/"
        },
        "id": "rKSRzM1bMj0P",
        "outputId": "d589656d-7022-4c33-f87a-5c82d775d85e"
      },
      "execution_count": 14,
      "outputs": [
        {
          "output_type": "stream",
          "name": "stdout",
          "text": [
            "+---------------+\n",
            "|ConsecutiveNums|\n",
            "+---------------+\n",
            "|              1|\n",
            "+---------------+\n",
            "\n"
          ]
        }
      ]
    },
    {
      "cell_type": "code",
      "source": [],
      "metadata": {
        "id": "Uu65dhDpMuIf"
      },
      "execution_count": null,
      "outputs": []
    }
  ]
}