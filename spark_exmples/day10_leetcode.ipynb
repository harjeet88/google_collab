{
  "nbformat": 4,
  "nbformat_minor": 0,
  "metadata": {
    "colab": {
      "provenance": [],
      "toc_visible": true,
      "include_colab_link": true
    },
    "kernelspec": {
      "name": "python3",
      "display_name": "Python 3"
    },
    "language_info": {
      "name": "python"
    }
  },
  "cells": [
    {
      "cell_type": "markdown",
      "metadata": {
        "id": "view-in-github",
        "colab_type": "text"
      },
      "source": [
        "<a href=\"https://colab.research.google.com/github/harjeet88/google_collab/blob/main/spark_exmples/day10_leetcode.ipynb\" target=\"_parent\"><img src=\"https://colab.research.google.com/assets/colab-badge.svg\" alt=\"Open In Colab\"/></a>"
      ]
    },
    {
      "cell_type": "code",
      "source": [
        "from google.colab import drive\n",
        "drive.mount('/content/drive')"
      ],
      "metadata": {
        "colab": {
          "base_uri": "https://localhost:8080/"
        },
        "id": "8F1kC7EGR7LY",
        "outputId": "1e0eae9b-1273-49fc-9770-b3d5e1740722"
      },
      "execution_count": 1,
      "outputs": [
        {
          "output_type": "stream",
          "name": "stdout",
          "text": [
            "Mounted at /content/drive\n"
          ]
        }
      ]
    },
    {
      "cell_type": "code",
      "source": [
        "!chmod -R +x /content/drive/MyDrive/installs/"
      ],
      "metadata": {
        "id": "IrXNe2xuSQ_h"
      },
      "execution_count": 2,
      "outputs": []
    },
    {
      "cell_type": "code",
      "source": [
        "import os\n",
        "java_path = '/content/drive/MyDrive/installs/jdk-11.0.2/'\n",
        "os.environ['JAVA_HOME'] = java_path\n",
        "os.environ['PATH'] = os.environ['JAVA_HOME'] + '/bin:' + os.environ['PATH']\n",
        "# Verify installation\n",
        "!java -version\n",
        "!which java"
      ],
      "metadata": {
        "colab": {
          "base_uri": "https://localhost:8080/"
        },
        "id": "lX0o8H34SpgU",
        "outputId": "0e176dcd-596e-4590-cf1d-a7e00924b784"
      },
      "execution_count": 3,
      "outputs": [
        {
          "output_type": "stream",
          "name": "stdout",
          "text": [
            "openjdk version \"11.0.2\" 2019-01-15\n",
            "OpenJDK Runtime Environment 18.9 (build 11.0.2+9)\n",
            "OpenJDK 64-Bit Server VM 18.9 (build 11.0.2+9, mixed mode)\n",
            "/content/drive/MyDrive/installs/jdk-11.0.2//bin/java\n"
          ]
        }
      ]
    },
    {
      "cell_type": "code",
      "execution_count": 4,
      "metadata": {
        "id": "0F9G3_cJRrDE"
      },
      "outputs": [],
      "source": [
        "import pyspark\n",
        "import os\n",
        "java_path = '/content/drive/MyDrive/installs/jdk-11.0.2/'\n",
        "os.environ['JAVA_HOME'] = java_path\n",
        "os.environ[\"SPARK_HOME\"] = \"drive/MyDrive/installs/spark-3.5.1-bin-hadoop3\"\n",
        "os.environ[\"PYSPARK_PYTHON\"] = \"python3\"\n",
        "os.environ[\"PYSPARK_DRIVER_PYTHON\"] = \"python3\""
      ]
    },
    {
      "cell_type": "code",
      "source": [
        "import sys\n",
        "sys.path.append('/content/drive/MyDrive/installs/py_package') # Replace with your actual path"
      ],
      "metadata": {
        "id": "BjU_YCRVRyvc"
      },
      "execution_count": 5,
      "outputs": []
    },
    {
      "cell_type": "code",
      "source": [
        "import findspark\n",
        "findspark.init()"
      ],
      "metadata": {
        "id": "GwqYDAhmSI3y"
      },
      "execution_count": 6,
      "outputs": []
    },
    {
      "cell_type": "code",
      "source": [
        "from pyspark.sql import SparkSession\n",
        "MAX_MEMORY=\"8g\"\n",
        "maven_coords = [\n",
        "    \"org.apache.spark:spark-avro_2.12:3.2.1\",\n",
        "    \"io.delta:delta-core_2.12:2.0.0rc1\",\n",
        "    \"org.xerial:sqlite-jdbc:3.36.0.3\",\n",
        "    \"graphframes:graphframes:0.8.2-spark3.2-s_2.12\",\n",
        "    \"com.acervera.osm4scala:osm4scala-spark3-shaded_2.12:1.0.8\",\n",
        "]\n",
        "\n",
        "spark = (pyspark.sql.SparkSession.builder.appName(\"MyApp\")\n",
        "    .config(\"spark.jars.packages\", \",\".join(maven_coords))\n",
        "    .config(\"spark.sql.extensions\", \"io.delta.sql.DeltaSparkSessionExtension\")\n",
        "    .config(\"spark.sql.catalog.spark_catalog\", \"org.apache.spark.sql.delta.catalog.DeltaCatalog\")\n",
        "    .config(\"spark.executor.memory\", MAX_MEMORY)\n",
        "    .config(\"spark.driver.memory\", MAX_MEMORY)\n",
        "    .enableHiveSupport()\n",
        "    .getOrCreate()\n",
        "    )"
      ],
      "metadata": {
        "id": "yCMoU01-SLUc"
      },
      "execution_count": 7,
      "outputs": []
    },
    {
      "cell_type": "code",
      "source": [
        "spark"
      ],
      "metadata": {
        "colab": {
          "base_uri": "https://localhost:8080/",
          "height": 221
        },
        "id": "nApQnNgqShB-",
        "outputId": "843f2da1-19f0-43c6-c862-bb4077ff10f7"
      },
      "execution_count": 8,
      "outputs": [
        {
          "output_type": "execute_result",
          "data": {
            "text/plain": [
              "<pyspark.sql.session.SparkSession at 0x7a78a7246950>"
            ],
            "text/html": [
              "\n",
              "            <div>\n",
              "                <p><b>SparkSession - hive</b></p>\n",
              "                \n",
              "        <div>\n",
              "            <p><b>SparkContext</b></p>\n",
              "\n",
              "            <p><a href=\"http://4e6aa2119bdc:4040\">Spark UI</a></p>\n",
              "\n",
              "            <dl>\n",
              "              <dt>Version</dt>\n",
              "                <dd><code>v3.5.1</code></dd>\n",
              "              <dt>Master</dt>\n",
              "                <dd><code>local[*]</code></dd>\n",
              "              <dt>AppName</dt>\n",
              "                <dd><code>MyApp</code></dd>\n",
              "            </dl>\n",
              "        </div>\n",
              "        \n",
              "            </div>\n",
              "        "
            ]
          },
          "metadata": {},
          "execution_count": 8
        }
      ]
    },
    {
      "cell_type": "code",
      "source": [
        "from pyspark.sql.functions import *\n",
        "from os.path import join\n",
        "from ast import alias"
      ],
      "metadata": {
        "id": "UaA6E_XAGVsF"
      },
      "execution_count": 9,
      "outputs": []
    },
    {
      "cell_type": "markdown",
      "source": [
        "#User Activity for the Past 30 Days I - 1141\n",
        "https://leetcode.com/problems/user-activity-for-the-past-30-days-i/description/?envType=study-plan-v2&envId=top-sql-50"
      ],
      "metadata": {
        "id": "zyn2hrVmuR1L"
      }
    },
    {
      "cell_type": "code",
      "source": [
        "%%writefile /content/drive/MyDrive/data/leetcode_sql180/user_activity_1141.csv\n",
        "user_id,session_id,activity_date,activity_type\n",
        "1,1,2019-07-20,open_session\n",
        "1,1,2019-07-20,scroll_down\n",
        "1,1,2019-07-20,end_session\n",
        "2,4,2019-07-20,open_session\n",
        "2,4,2019-07-21,send_message\n",
        "2,4,2019-07-21,end_session\n",
        "3,2,2019-07-21,open_session\n",
        "3,2,2019-07-21,send_message\n",
        "3,2,2019-07-21,end_session\n",
        "4,3,2019-06-25,open_session\n",
        "4,3,2019-06-25,end_session"
      ],
      "metadata": {
        "colab": {
          "base_uri": "https://localhost:8080/"
        },
        "id": "iK2Vmi8SFIAm",
        "outputId": "880fffe6-5550-4121-88f2-a4939b0d6844"
      },
      "execution_count": 10,
      "outputs": [
        {
          "output_type": "stream",
          "name": "stdout",
          "text": [
            "Overwriting /content/drive/MyDrive/data/leetcode_sql180/user_activity_1141.csv\n"
          ]
        }
      ]
    },
    {
      "cell_type": "code",
      "source": [
        "df.printSchema()"
      ],
      "metadata": {
        "id": "lVXR77vZiUNN",
        "outputId": "c555fa67-dc5a-4fef-db77-51e9ae87ab4b",
        "colab": {
          "base_uri": "https://localhost:8080/"
        }
      },
      "execution_count": 14,
      "outputs": [
        {
          "output_type": "stream",
          "name": "stdout",
          "text": [
            "root\n",
            " |-- user_id: integer (nullable = true)\n",
            " |-- session_id: integer (nullable = true)\n",
            " |-- activity_date: date (nullable = true)\n",
            " |-- activity_type: string (nullable = true)\n",
            "\n"
          ]
        }
      ]
    },
    {
      "cell_type": "code",
      "source": [
        "df= spark.read.csv(\"/content/drive/MyDrive/data/leetcode_sql180/user_activity_1141.csv\",inferSchema=True,header=True)\n",
        "df.show()"
      ],
      "metadata": {
        "id": "IvwS-dkJqwZL",
        "outputId": "9038c872-2600-43cf-9fd0-8a8c9279412f",
        "colab": {
          "base_uri": "https://localhost:8080/"
        }
      },
      "execution_count": 11,
      "outputs": [
        {
          "output_type": "stream",
          "name": "stdout",
          "text": [
            "+-------+----------+-------------+-------------+\n",
            "|user_id|session_id|activity_date|activity_type|\n",
            "+-------+----------+-------------+-------------+\n",
            "|      1|         1|   2019-07-20| open_session|\n",
            "|      1|         1|   2019-07-20|  scroll_down|\n",
            "|      1|         1|   2019-07-20|  end_session|\n",
            "|      2|         4|   2019-07-20| open_session|\n",
            "|      2|         4|   2019-07-21| send_message|\n",
            "|      2|         4|   2019-07-21|  end_session|\n",
            "|      3|         2|   2019-07-21| open_session|\n",
            "|      3|         2|   2019-07-21| send_message|\n",
            "|      3|         2|   2019-07-21|  end_session|\n",
            "|      4|         3|   2019-06-25| open_session|\n",
            "|      4|         3|   2019-06-25|  end_session|\n",
            "+-------+----------+-------------+-------------+\n",
            "\n"
          ]
        }
      ]
    },
    {
      "cell_type": "code",
      "source": [
        "df1 = df.groupBy(\"activity_date\").agg(countDistinct(\"user_id\").alias(\"user_count\"))\n",
        "df1.show()"
      ],
      "metadata": {
        "id": "FDvgJJNWWzup",
        "outputId": "010430c1-bd7a-4d4c-de12-09fedb9ced1b",
        "colab": {
          "base_uri": "https://localhost:8080/"
        }
      },
      "execution_count": 12,
      "outputs": [
        {
          "output_type": "stream",
          "name": "stdout",
          "text": [
            "+-------------+----------+\n",
            "|activity_date|user_count|\n",
            "+-------------+----------+\n",
            "|   2019-07-21|         2|\n",
            "|   2019-06-25|         1|\n",
            "|   2019-07-20|         2|\n",
            "+-------------+----------+\n",
            "\n"
          ]
        }
      ]
    },
    {
      "cell_type": "code",
      "source": [
        "#.filter(col(\"activity_date\")>\"2019-06-27\" & col(\"activity_date\")<=\"2019-07-27\")\n",
        "df1.where(df.activity_date.between(\"2019-06-28\",\"2019-07-27\")).show()"
      ],
      "metadata": {
        "id": "IhatUkAFXGsR",
        "outputId": "ce53e825-a551-4d88-b278-36422e844de8",
        "colab": {
          "base_uri": "https://localhost:8080/"
        }
      },
      "execution_count": 13,
      "outputs": [
        {
          "output_type": "stream",
          "name": "stdout",
          "text": [
            "+-------------+----------+\n",
            "|activity_date|user_count|\n",
            "+-------------+----------+\n",
            "|   2019-07-21|         2|\n",
            "|   2019-07-20|         2|\n",
            "+-------------+----------+\n",
            "\n"
          ]
        }
      ]
    },
    {
      "cell_type": "code",
      "source": [
        "df2 = df.where(df.activity_date.between(\"2019-06-28\",\"2019-07-27\"))\n",
        "df.show()\n"
      ],
      "metadata": {
        "id": "3Hli96M3X_1n",
        "outputId": "30cf09b5-1b3d-4a83-8ce5-97d78778ae4e",
        "colab": {
          "base_uri": "https://localhost:8080/"
        }
      },
      "execution_count": 15,
      "outputs": [
        {
          "output_type": "stream",
          "name": "stdout",
          "text": [
            "+-------+----------+-------------+-------------+\n",
            "|user_id|session_id|activity_date|activity_type|\n",
            "+-------+----------+-------------+-------------+\n",
            "|      1|         1|   2019-07-20| open_session|\n",
            "|      1|         1|   2019-07-20|  scroll_down|\n",
            "|      1|         1|   2019-07-20|  end_session|\n",
            "|      2|         4|   2019-07-20| open_session|\n",
            "|      2|         4|   2019-07-21| send_message|\n",
            "|      2|         4|   2019-07-21|  end_session|\n",
            "|      3|         2|   2019-07-21| open_session|\n",
            "|      3|         2|   2019-07-21| send_message|\n",
            "|      3|         2|   2019-07-21|  end_session|\n",
            "|      4|         3|   2019-06-25| open_session|\n",
            "|      4|         3|   2019-06-25|  end_session|\n",
            "+-------+----------+-------------+-------------+\n",
            "\n"
          ]
        }
      ]
    },
    {
      "cell_type": "code",
      "source": [
        "df2.groupBy(\"activity_date\").agg(countDistinct(\"user_id\").alias(\"user_count\")).show()"
      ],
      "metadata": {
        "id": "r7k3uKNnlFAD",
        "outputId": "52afe551-742a-4faa-bc04-b72450d9f2e5",
        "colab": {
          "base_uri": "https://localhost:8080/"
        }
      },
      "execution_count": 16,
      "outputs": [
        {
          "output_type": "stream",
          "name": "stdout",
          "text": [
            "+-------------+----------+\n",
            "|activity_date|user_count|\n",
            "+-------------+----------+\n",
            "|   2019-07-21|         2|\n",
            "|   2019-07-20|         2|\n",
            "+-------------+----------+\n",
            "\n"
          ]
        }
      ]
    },
    {
      "cell_type": "code",
      "source": [],
      "metadata": {
        "id": "qGrCFVSTlgNr"
      },
      "execution_count": null,
      "outputs": []
    }
  ]
}