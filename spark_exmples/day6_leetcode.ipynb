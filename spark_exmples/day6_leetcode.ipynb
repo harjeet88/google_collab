{
  "nbformat": 4,
  "nbformat_minor": 0,
  "metadata": {
    "colab": {
      "provenance": [],
      "toc_visible": true,
      "include_colab_link": true
    },
    "kernelspec": {
      "name": "python3",
      "display_name": "Python 3"
    },
    "language_info": {
      "name": "python"
    }
  },
  "cells": [
    {
      "cell_type": "markdown",
      "metadata": {
        "id": "view-in-github",
        "colab_type": "text"
      },
      "source": [
        "<a href=\"https://colab.research.google.com/github/harjeet88/google_collab/blob/main/spark_exmples/day6_leetcode.ipynb\" target=\"_parent\"><img src=\"https://colab.research.google.com/assets/colab-badge.svg\" alt=\"Open In Colab\"/></a>"
      ]
    },
    {
      "cell_type": "code",
      "source": [
        "from google.colab import drive\n",
        "drive.mount('/content/drive')"
      ],
      "metadata": {
        "colab": {
          "base_uri": "https://localhost:8080/"
        },
        "id": "8F1kC7EGR7LY",
        "outputId": "52c3019d-7d2a-457d-9e70-d4403e16175f"
      },
      "execution_count": 1,
      "outputs": [
        {
          "output_type": "stream",
          "name": "stdout",
          "text": [
            "Mounted at /content/drive\n"
          ]
        }
      ]
    },
    {
      "cell_type": "code",
      "source": [
        "!chmod -R +x /content/drive/MyDrive/installs/"
      ],
      "metadata": {
        "id": "IrXNe2xuSQ_h"
      },
      "execution_count": 2,
      "outputs": []
    },
    {
      "cell_type": "code",
      "source": [
        "import os\n",
        "java_path = '/content/drive/MyDrive/installs/jdk-11.0.2/'\n",
        "os.environ['JAVA_HOME'] = java_path\n",
        "os.environ['PATH'] = os.environ['JAVA_HOME'] + '/bin:' + os.environ['PATH']\n",
        "# Verify installation\n",
        "!java -version\n",
        "!which java"
      ],
      "metadata": {
        "colab": {
          "base_uri": "https://localhost:8080/"
        },
        "id": "lX0o8H34SpgU",
        "outputId": "b4d55c1e-4b2b-4984-ca07-4d1eea1e6036"
      },
      "execution_count": 3,
      "outputs": [
        {
          "output_type": "stream",
          "name": "stdout",
          "text": [
            "openjdk version \"11.0.2\" 2019-01-15\n",
            "OpenJDK Runtime Environment 18.9 (build 11.0.2+9)\n",
            "OpenJDK 64-Bit Server VM 18.9 (build 11.0.2+9, mixed mode)\n",
            "/content/drive/MyDrive/installs/jdk-11.0.2//bin/java\n"
          ]
        }
      ]
    },
    {
      "cell_type": "code",
      "execution_count": 4,
      "metadata": {
        "id": "0F9G3_cJRrDE"
      },
      "outputs": [],
      "source": [
        "import pyspark\n",
        "import os\n",
        "java_path = '/content/drive/MyDrive/installs/jdk-11.0.2/'\n",
        "os.environ['JAVA_HOME'] = java_path\n",
        "os.environ[\"SPARK_HOME\"] = \"drive/MyDrive/installs/spark-3.5.1-bin-hadoop3\"\n",
        "os.environ[\"PYSPARK_PYTHON\"] = \"python3\"\n",
        "os.environ[\"PYSPARK_DRIVER_PYTHON\"] = \"python3\""
      ]
    },
    {
      "cell_type": "code",
      "source": [
        "import sys\n",
        "sys.path.append('/content/drive/MyDrive/installs/py_package') # Replace with your actual path"
      ],
      "metadata": {
        "id": "BjU_YCRVRyvc"
      },
      "execution_count": 5,
      "outputs": []
    },
    {
      "cell_type": "code",
      "source": [
        "import findspark\n",
        "findspark.init()"
      ],
      "metadata": {
        "id": "GwqYDAhmSI3y"
      },
      "execution_count": 6,
      "outputs": []
    },
    {
      "cell_type": "code",
      "source": [
        "from pyspark.sql import SparkSession\n",
        "MAX_MEMORY=\"8g\"\n",
        "maven_coords = [\n",
        "    \"org.apache.spark:spark-avro_2.12:3.2.1\",\n",
        "    \"io.delta:delta-core_2.12:2.0.0rc1\",\n",
        "    \"org.xerial:sqlite-jdbc:3.36.0.3\",\n",
        "    \"graphframes:graphframes:0.8.2-spark3.2-s_2.12\",\n",
        "    \"com.acervera.osm4scala:osm4scala-spark3-shaded_2.12:1.0.8\",\n",
        "]\n",
        "\n",
        "spark = (pyspark.sql.SparkSession.builder.appName(\"MyApp\")\n",
        "    .config(\"spark.jars.packages\", \",\".join(maven_coords))\n",
        "    .config(\"spark.sql.extensions\", \"io.delta.sql.DeltaSparkSessionExtension\")\n",
        "    .config(\"spark.sql.catalog.spark_catalog\", \"org.apache.spark.sql.delta.catalog.DeltaCatalog\")\n",
        "    .config(\"spark.executor.memory\", MAX_MEMORY)\n",
        "    .config(\"spark.driver.memory\", MAX_MEMORY)\n",
        "    .enableHiveSupport()\n",
        "    .getOrCreate()\n",
        "    )"
      ],
      "metadata": {
        "id": "yCMoU01-SLUc"
      },
      "execution_count": 7,
      "outputs": []
    },
    {
      "cell_type": "code",
      "source": [
        "spark"
      ],
      "metadata": {
        "colab": {
          "base_uri": "https://localhost:8080/",
          "height": 221
        },
        "id": "nApQnNgqShB-",
        "outputId": "cf5e6528-c3de-4d7f-bcb9-c75ca405fc5c"
      },
      "execution_count": 8,
      "outputs": [
        {
          "output_type": "execute_result",
          "data": {
            "text/plain": [
              "<pyspark.sql.session.SparkSession at 0x782fee42d870>"
            ],
            "text/html": [
              "\n",
              "            <div>\n",
              "                <p><b>SparkSession - hive</b></p>\n",
              "                \n",
              "        <div>\n",
              "            <p><b>SparkContext</b></p>\n",
              "\n",
              "            <p><a href=\"http://2e4003a51bdb:4040\">Spark UI</a></p>\n",
              "\n",
              "            <dl>\n",
              "              <dt>Version</dt>\n",
              "                <dd><code>v3.5.1</code></dd>\n",
              "              <dt>Master</dt>\n",
              "                <dd><code>local[*]</code></dd>\n",
              "              <dt>AppName</dt>\n",
              "                <dd><code>MyApp</code></dd>\n",
              "            </dl>\n",
              "        </div>\n",
              "        \n",
              "            </div>\n",
              "        "
            ]
          },
          "metadata": {},
          "execution_count": 8
        }
      ]
    },
    {
      "cell_type": "markdown",
      "source": [
        "# Find Followers\n",
        "https://leetcode.com/problems/find-followers-count/?envType=study-plan-v2&envId=top-sql-50"
      ],
      "metadata": {
        "id": "wJeQXixcDVyZ"
      }
    },
    {
      "cell_type": "code",
      "source": [
        "%%writefile /content/drive/MyDrive/data/leetcode_sql180/find_followers.csv\n",
        "user_id,follower_id\n",
        "0,1\n",
        "1,0\n",
        "2,0\n",
        "2,1"
      ],
      "metadata": {
        "colab": {
          "base_uri": "https://localhost:8080/"
        },
        "id": "iK2Vmi8SFIAm",
        "outputId": "1ea6f653-1612-4d00-c299-a0ed86273c94"
      },
      "execution_count": 9,
      "outputs": [
        {
          "output_type": "stream",
          "name": "stdout",
          "text": [
            "Writing /content/drive/MyDrive/data/leetcode_sql180/find_followers.csv\n"
          ]
        }
      ]
    },
    {
      "cell_type": "code",
      "source": [
        "from pyspark.sql.functions import *\n",
        "from os.path import join\n",
        "from ast import alias"
      ],
      "metadata": {
        "id": "UaA6E_XAGVsF"
      },
      "execution_count": 10,
      "outputs": []
    },
    {
      "cell_type": "code",
      "source": [
        "df = spark.read.csv(\"/content/drive/MyDrive/data/leetcode_sql180/find_followers.csv\",inferSchema=True,header=True)"
      ],
      "metadata": {
        "id": "7F4kr_gSCxN4"
      },
      "execution_count": 12,
      "outputs": []
    },
    {
      "cell_type": "code",
      "source": [
        "df.show()"
      ],
      "metadata": {
        "id": "ck4OykniXJp9",
        "outputId": "a9a35551-35aa-4887-b0d3-2f6a62476545",
        "colab": {
          "base_uri": "https://localhost:8080/"
        }
      },
      "execution_count": 13,
      "outputs": [
        {
          "output_type": "stream",
          "name": "stdout",
          "text": [
            "+-------+-----------+\n",
            "|user_id|follower_id|\n",
            "+-------+-----------+\n",
            "|      0|          1|\n",
            "|      1|          0|\n",
            "|      2|          0|\n",
            "|      2|          1|\n",
            "+-------+-----------+\n",
            "\n"
          ]
        }
      ]
    },
    {
      "cell_type": "code",
      "source": [
        "df.groupBy(\"user_id\").agg(count(df.follower_id).alias(\"followers_count\")).orderBy(\"user_id\").show()"
      ],
      "metadata": {
        "id": "xLEPgTgpXLpQ",
        "outputId": "8507705b-2262-41fa-a9e1-5065d93f516c",
        "colab": {
          "base_uri": "https://localhost:8080/"
        }
      },
      "execution_count": 15,
      "outputs": [
        {
          "output_type": "stream",
          "name": "stdout",
          "text": [
            "+-------+---------------+\n",
            "|user_id|followers_count|\n",
            "+-------+---------------+\n",
            "|      0|              1|\n",
            "|      1|              1|\n",
            "|      2|              2|\n",
            "+-------+---------------+\n",
            "\n"
          ]
        }
      ]
    },
    {
      "cell_type": "markdown",
      "source": [
        "# Count salary cataegories\n",
        "https://leetcode.com/problems/count-salary-categories/description/?envType=study-plan-v2&envId=top-sql-50"
      ],
      "metadata": {
        "id": "Z8pxcYz9YXLi"
      }
    },
    {
      "cell_type": "code",
      "source": [
        "%%writefile /content/drive/MyDrive/data/leetcode_sql180/count_salary_categories_1907.csv\n",
        "account_id,income\n",
        "3,108939\n",
        "2,12747\n",
        "8,87709\n",
        "6,91796"
      ],
      "metadata": {
        "id": "A8uXPQQDXo8s",
        "outputId": "10451719-fe81-4296-bb8c-f224249f0ea0",
        "colab": {
          "base_uri": "https://localhost:8080/"
        }
      },
      "execution_count": 17,
      "outputs": [
        {
          "output_type": "stream",
          "name": "stdout",
          "text": [
            "Overwriting /content/drive/MyDrive/data/leetcode_sql180/count_salary_categories_1907.csv\n"
          ]
        }
      ]
    },
    {
      "cell_type": "code",
      "source": [
        "df = spark.read.csv(\"/content/drive/MyDrive/data/leetcode_sql180/count_salary_categories_1907.csv\",inferSchema=True,header=True)"
      ],
      "metadata": {
        "id": "rexSz-O3YouB"
      },
      "execution_count": 18,
      "outputs": []
    },
    {
      "cell_type": "code",
      "source": [
        "df.show()"
      ],
      "metadata": {
        "id": "qL-8jUGWYuxq",
        "outputId": "2c950ac2-e054-4f50-babc-c2f0acf05cb9",
        "colab": {
          "base_uri": "https://localhost:8080/"
        }
      },
      "execution_count": 19,
      "outputs": [
        {
          "output_type": "stream",
          "name": "stdout",
          "text": [
            "+----------+------+\n",
            "|account_id|income|\n",
            "+----------+------+\n",
            "|         3|108939|\n",
            "|         2| 12747|\n",
            "|         8| 87709|\n",
            "|         6| 91796|\n",
            "+----------+------+\n",
            "\n"
          ]
        }
      ]
    },
    {
      "cell_type": "code",
      "source": [
        "df1 = df.withColumn(\"category\",\n",
        "    when(col(\"income\")<20000,\"Low Salary\")\n",
        "    .when((col(\"income\")>=20000) & (col(\"income\")<=50000),\"Average Salary\")\n",
        "    .otherwise(\"High Salary\"))\n",
        "df1.show()"
      ],
      "metadata": {
        "id": "BAt5uXdTYvry",
        "outputId": "3713b0b9-c4fc-49d2-c16a-5a564987479f",
        "colab": {
          "base_uri": "https://localhost:8080/"
        }
      },
      "execution_count": 23,
      "outputs": [
        {
          "output_type": "stream",
          "name": "stdout",
          "text": [
            "+----------+------+-----------+\n",
            "|account_id|income|   category|\n",
            "+----------+------+-----------+\n",
            "|         3|108939|High Salary|\n",
            "|         2| 12747| Low Salary|\n",
            "|         8| 87709|High Salary|\n",
            "|         6| 91796|High Salary|\n",
            "+----------+------+-----------+\n",
            "\n"
          ]
        }
      ]
    },
    {
      "cell_type": "code",
      "source": [
        "df2 = df1.groupBy(col(\"category\")).agg(count(\"*\").alias(\"accounts_count\"))"
      ],
      "metadata": {
        "id": "I1xJd0oIY_U2"
      },
      "execution_count": 32,
      "outputs": []
    },
    {
      "cell_type": "code",
      "source": [
        "all_cat= spark.createDataFrame(\n",
        "    [\n",
        "        (\"Low Salary\",0),\n",
        "        (\"Average Salary\",0),\n",
        "        (\"High Salary\",0)\n",
        "    ],\n",
        "    [\"category\",\"accounts_count\"]\n",
        ")"
      ],
      "metadata": {
        "id": "l51zqLaAZlY_"
      },
      "execution_count": 33,
      "outputs": []
    },
    {
      "cell_type": "code",
      "source": [
        "all_cat.show()"
      ],
      "metadata": {
        "id": "KEfhlgyLaMKD",
        "outputId": "d53e1c0c-5647-40fa-ae58-81f0dcdc76ab",
        "colab": {
          "base_uri": "https://localhost:8080/"
        }
      },
      "execution_count": 34,
      "outputs": [
        {
          "output_type": "stream",
          "name": "stdout",
          "text": [
            "+--------------+--------------+\n",
            "|      category|accounts_count|\n",
            "+--------------+--------------+\n",
            "|    Low Salary|             0|\n",
            "|Average Salary|             0|\n",
            "|   High Salary|             0|\n",
            "+--------------+--------------+\n",
            "\n"
          ]
        }
      ]
    },
    {
      "cell_type": "code",
      "source": [
        "df2.union(all_cat).groupBy(\"category\").agg(sum(\"accounts_count\").alias(\"accounts_count\")).show()"
      ],
      "metadata": {
        "id": "M2C8jeYfaNlD",
        "outputId": "cba50257-a466-49c3-df42-54266e2e7f5d",
        "colab": {
          "base_uri": "https://localhost:8080/"
        }
      },
      "execution_count": 37,
      "outputs": [
        {
          "output_type": "stream",
          "name": "stdout",
          "text": [
            "+--------------+--------------+\n",
            "|      category|accounts_count|\n",
            "+--------------+--------------+\n",
            "|   High Salary|             3|\n",
            "|    Low Salary|             1|\n",
            "|Average Salary|             0|\n",
            "+--------------+--------------+\n",
            "\n"
          ]
        }
      ]
    },
    {
      "cell_type": "markdown",
      "source": [
        "# Restaurent Growth\n",
        "https://leetcode.com/problems/restaurant-growth/description/?envType=study-plan-v2&envId=top-sql-50"
      ],
      "metadata": {
        "id": "Mc9LY9VVdHKO"
      }
    },
    {
      "cell_type": "code",
      "source": [
        "%%writefile /content/drive/MyDrive/data/leetcode_sql180/restaurent_growth_1321.csv\n",
        "customer_id,name,visited_on,amount\n",
        "1,Jhon,2019-01-01,100\n",
        "2,Daniel,2019-01-02,110\n",
        "3,Jade,2019-01-03,120\n",
        "4,Khaled,2019-01-04,130\n",
        "5,Winston,2019-01-05,110\n",
        "6,Elvis,2019-01-06,140\n",
        "7,Anna,2019-01-07,150\n",
        "8,Maria,2019-01-08,80\n",
        "9,Jaze,2019-01-09,110\n",
        "1,Jhon,2019-01-10,130\n",
        "3,Jade,2019-01-10,150"
      ],
      "metadata": {
        "id": "k3_-6UzracGF",
        "outputId": "33602da0-dc65-4b3e-c320-95e864b99e44",
        "colab": {
          "base_uri": "https://localhost:8080/"
        }
      },
      "execution_count": 38,
      "outputs": [
        {
          "output_type": "stream",
          "name": "stdout",
          "text": [
            "Writing /content/drive/MyDrive/data/leetcode_sql180/restaurent_growth_1321.csv\n"
          ]
        }
      ]
    },
    {
      "cell_type": "code",
      "source": [
        "df=spark.read.csv(\"/content/drive/MyDrive/data/leetcode_sql180/restaurent_growth_1321.csv\",inferSchema=True,header=True)"
      ],
      "metadata": {
        "id": "y4rL5BjSeONM"
      },
      "execution_count": 53,
      "outputs": []
    },
    {
      "cell_type": "code",
      "source": [
        "import pyspark.sql.functions as F\n",
        "from pyspark.sql.window import Window"
      ],
      "metadata": {
        "id": "05LRN7Ybl2hm"
      },
      "execution_count": 43,
      "outputs": []
    },
    {
      "cell_type": "code",
      "source": [
        "df = df.withColumn(\"visited_on\",to_date(col(\"visited_on\")))\n",
        "df.show()"
      ],
      "metadata": {
        "id": "tb1hJ8EmlhbF",
        "outputId": "bddc16e2-9841-446e-8918-3ea8a51ae5c4",
        "colab": {
          "base_uri": "https://localhost:8080/"
        }
      },
      "execution_count": 41,
      "outputs": [
        {
          "output_type": "stream",
          "name": "stdout",
          "text": [
            "+-----------+-------+----------+------+\n",
            "|customer_id|   name|visited_on|amount|\n",
            "+-----------+-------+----------+------+\n",
            "|          1|   Jhon|2019-01-01|   100|\n",
            "|          2| Daniel|2019-01-02|   110|\n",
            "|          3|   Jade|2019-01-03|   120|\n",
            "|          4| Khaled|2019-01-04|   130|\n",
            "|          5|Winston|2019-01-05|   110|\n",
            "|          6|  Elvis|2019-01-06|   140|\n",
            "|          7|   Anna|2019-01-07|   150|\n",
            "|          8|  Maria|2019-01-08|    80|\n",
            "|          9|   Jaze|2019-01-09|   110|\n",
            "|          1|   Jhon|2019-01-10|   130|\n",
            "|          3|   Jade|2019-01-10|   150|\n",
            "+-----------+-------+----------+------+\n",
            "\n"
          ]
        }
      ]
    },
    {
      "cell_type": "code",
      "source": [
        "# Calculate daily totals\n",
        "daily_totals = df.groupBy(\"visited_on\").agg(sum(\"amount\").alias(\"daily_amount\"))\\\n",
        ".orderBy(\"visited_on\")\n"
      ],
      "metadata": {
        "id": "q9MXZIt7nWHz"
      },
      "execution_count": 66,
      "outputs": []
    },
    {
      "cell_type": "code",
      "source": [
        "winSpec = Window.orderBy(\"visited_on\").rowsBetween(-6,0)"
      ],
      "metadata": {
        "id": "6Fpfm1sEeQdm"
      },
      "execution_count": 67,
      "outputs": []
    },
    {
      "cell_type": "code",
      "source": [
        "daily_totals.withColumn(\"avg_amount\",round(F.avg(\"daily_amount\").over(winSpec),2)).show()"
      ],
      "metadata": {
        "id": "1-twrkGqlyrD",
        "outputId": "039edcf6-9feb-41bc-b9ba-46d17721e8a6",
        "colab": {
          "base_uri": "https://localhost:8080/"
        }
      },
      "execution_count": 69,
      "outputs": [
        {
          "output_type": "stream",
          "name": "stdout",
          "text": [
            "+----------+------------+----------+\n",
            "|visited_on|daily_amount|avg_amount|\n",
            "+----------+------------+----------+\n",
            "|2019-01-01|         100|     100.0|\n",
            "|2019-01-02|         110|     105.0|\n",
            "|2019-01-03|         120|     110.0|\n",
            "|2019-01-04|         130|     115.0|\n",
            "|2019-01-05|         110|     114.0|\n",
            "|2019-01-06|         140|    118.33|\n",
            "|2019-01-07|         150|    122.86|\n",
            "|2019-01-08|          80|     120.0|\n",
            "|2019-01-09|         110|     120.0|\n",
            "|2019-01-10|         280|    142.86|\n",
            "+----------+------------+----------+\n",
            "\n"
          ]
        }
      ]
    },
    {
      "cell_type": "code",
      "source": [
        "# prompt: offset results from 7th record\n",
        "\n",
        "# Assuming you want to offset results from the 7th record of the dataframe 'daily_totals'\n",
        "# in the provided code.\n",
        "\n",
        "# ... (your existing code) ...\n",
        "\n",
        "# Calculate daily totals\n",
        "daily_totals = df.groupBy(\"visited_on\").agg(sum(\"amount\").alias(\"daily_amount\"))\\\n",
        ".orderBy(\"visited_on\")\n",
        "\n",
        "winSpec = Window.orderBy(\"visited_on\").rowsBetween(-6,0)\n",
        "\n",
        "# Offset results from the 7th record\n",
        "offset_daily_totals = daily_totals.withColumn(\"avg_amount\",round(F.avg(\"daily_amount\").over(winSpec),2)).limit(daily_totals.count() - 6)\n",
        "\n",
        "offset_daily_totals.show()"
      ],
      "metadata": {
        "id": "mayi4sPeoUVA",
        "outputId": "7c6cbbf2-fbc3-4959-e6c7-cde827284d43",
        "colab": {
          "base_uri": "https://localhost:8080/"
        }
      },
      "execution_count": 70,
      "outputs": [
        {
          "output_type": "stream",
          "name": "stdout",
          "text": [
            "+----------+------------+----------+\n",
            "|visited_on|daily_amount|avg_amount|\n",
            "+----------+------------+----------+\n",
            "|2019-01-01|         100|     100.0|\n",
            "|2019-01-02|         110|     105.0|\n",
            "|2019-01-03|         120|     110.0|\n",
            "|2019-01-04|         130|     115.0|\n",
            "+----------+------------+----------+\n",
            "\n"
          ]
        }
      ]
    },
    {
      "cell_type": "code",
      "source": [],
      "metadata": {
        "id": "IvwS-dkJqwZL"
      },
      "execution_count": null,
      "outputs": []
    }
  ]
}