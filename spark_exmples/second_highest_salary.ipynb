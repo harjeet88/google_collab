{
  "nbformat": 4,
  "nbformat_minor": 0,
  "metadata": {
    "colab": {
      "provenance": [],
      "mount_file_id": "https://github.com/harjeet88/google_collab/blob/main/setup/env_setup_test.ipynb",
      "authorship_tag": "ABX9TyOjJj4+g/9eYazMqjT15pVz",
      "include_colab_link": true
    },
    "kernelspec": {
      "name": "python3",
      "display_name": "Python 3"
    },
    "language_info": {
      "name": "python"
    }
  },
  "cells": [
    {
      "cell_type": "markdown",
      "metadata": {
        "id": "view-in-github",
        "colab_type": "text"
      },
      "source": [
        "<a href=\"https://colab.research.google.com/github/harjeet88/google_collab/blob/main/spark_exmples/second_highest_salary.ipynb\" target=\"_parent\"><img src=\"https://colab.research.google.com/assets/colab-badge.svg\" alt=\"Open In Colab\"/></a>"
      ]
    },
    {
      "cell_type": "code",
      "source": [
        "from google.colab import drive\n",
        "drive.mount('/content/drive')"
      ],
      "metadata": {
        "colab": {
          "base_uri": "https://localhost:8080/"
        },
        "id": "8F1kC7EGR7LY",
        "outputId": "9370bbd8-ec58-4b71-9fa9-2d0721b771d7"
      },
      "execution_count": 1,
      "outputs": [
        {
          "output_type": "stream",
          "name": "stdout",
          "text": [
            "Mounted at /content/drive\n"
          ]
        }
      ]
    },
    {
      "cell_type": "code",
      "source": [
        "!chmod -R +x /content/drive/MyDrive/installs/"
      ],
      "metadata": {
        "id": "IrXNe2xuSQ_h"
      },
      "execution_count": 2,
      "outputs": []
    },
    {
      "cell_type": "code",
      "source": [
        "import os\n",
        "java_path = '/content/drive/MyDrive/installs/jdk-11.0.2/'\n",
        "os.environ['JAVA_HOME'] = java_path\n",
        "os.environ['PATH'] = os.environ['JAVA_HOME'] + '/bin:' + os.environ['PATH']\n",
        "# Verify installation\n",
        "!java -version\n",
        "!which java"
      ],
      "metadata": {
        "colab": {
          "base_uri": "https://localhost:8080/"
        },
        "id": "lX0o8H34SpgU",
        "outputId": "d7726a7a-1e23-45bf-cb92-42ae1d86c31d"
      },
      "execution_count": 3,
      "outputs": [
        {
          "output_type": "stream",
          "name": "stdout",
          "text": [
            "openjdk version \"11.0.2\" 2019-01-15\n",
            "OpenJDK Runtime Environment 18.9 (build 11.0.2+9)\n",
            "OpenJDK 64-Bit Server VM 18.9 (build 11.0.2+9, mixed mode)\n",
            "/content/drive/MyDrive/installs/jdk-11.0.2//bin/java\n"
          ]
        }
      ]
    },
    {
      "cell_type": "code",
      "execution_count": 4,
      "metadata": {
        "id": "0F9G3_cJRrDE"
      },
      "outputs": [],
      "source": [
        "import pyspark\n",
        "import os\n",
        "java_path = '/content/drive/MyDrive/installs/jdk-11.0.2/'\n",
        "os.environ['JAVA_HOME'] = java_path\n",
        "os.environ[\"SPARK_HOME\"] = \"drive/MyDrive/installs/spark-3.5.1-bin-hadoop3\"\n",
        "os.environ[\"PYSPARK_PYTHON\"] = \"python3\"\n",
        "os.environ[\"PYSPARK_DRIVER_PYTHON\"] = \"python3\""
      ]
    },
    {
      "cell_type": "code",
      "source": [
        "import sys\n",
        "sys.path.append('/content/drive/MyDrive/installs/py_package') # Replace with your actual path"
      ],
      "metadata": {
        "id": "BjU_YCRVRyvc"
      },
      "execution_count": 5,
      "outputs": []
    },
    {
      "cell_type": "code",
      "source": [
        "import findspark\n",
        "findspark.init()"
      ],
      "metadata": {
        "id": "GwqYDAhmSI3y"
      },
      "execution_count": 6,
      "outputs": []
    },
    {
      "cell_type": "code",
      "source": [
        "from pyspark.sql import SparkSession\n",
        "MAX_MEMORY=\"8g\"\n",
        "maven_coords = [\n",
        "    \"org.apache.spark:spark-avro_2.12:3.2.1\",\n",
        "    \"io.delta:delta-core_2.12:2.0.0rc1\",\n",
        "    \"org.xerial:sqlite-jdbc:3.36.0.3\",\n",
        "    \"graphframes:graphframes:0.8.2-spark3.2-s_2.12\",\n",
        "    \"com.acervera.osm4scala:osm4scala-spark3-shaded_2.12:1.0.8\",\n",
        "]\n",
        "\n",
        "spark = (pyspark.sql.SparkSession.builder.appName(\"MyApp\")\n",
        "    .config(\"spark.jars.packages\", \",\".join(maven_coords))\n",
        "    .config(\"spark.sql.extensions\", \"io.delta.sql.DeltaSparkSessionExtension\")\n",
        "    .config(\"spark.sql.catalog.spark_catalog\", \"org.apache.spark.sql.delta.catalog.DeltaCatalog\")\n",
        "    .config(\"spark.executor.memory\", MAX_MEMORY)\n",
        "    .config(\"spark.driver.memory\", MAX_MEMORY)\n",
        "    .enableHiveSupport()\n",
        "    .getOrCreate()\n",
        "    )"
      ],
      "metadata": {
        "id": "yCMoU01-SLUc"
      },
      "execution_count": 7,
      "outputs": []
    },
    {
      "cell_type": "code",
      "source": [
        "spark"
      ],
      "metadata": {
        "colab": {
          "base_uri": "https://localhost:8080/",
          "height": 221
        },
        "id": "nApQnNgqShB-",
        "outputId": "cfc0a5ca-fdf2-4e94-9e36-5b12723c84d3"
      },
      "execution_count": 8,
      "outputs": [
        {
          "output_type": "execute_result",
          "data": {
            "text/plain": [
              "<pyspark.sql.session.SparkSession at 0x7c70c842eb60>"
            ],
            "text/html": [
              "\n",
              "            <div>\n",
              "                <p><b>SparkSession - hive</b></p>\n",
              "                \n",
              "        <div>\n",
              "            <p><b>SparkContext</b></p>\n",
              "\n",
              "            <p><a href=\"http://0d05758ce584:4040\">Spark UI</a></p>\n",
              "\n",
              "            <dl>\n",
              "              <dt>Version</dt>\n",
              "                <dd><code>v3.5.1</code></dd>\n",
              "              <dt>Master</dt>\n",
              "                <dd><code>local[*]</code></dd>\n",
              "              <dt>AppName</dt>\n",
              "                <dd><code>MyApp</code></dd>\n",
              "            </dl>\n",
              "        </div>\n",
              "        \n",
              "            </div>\n",
              "        "
            ]
          },
          "metadata": {},
          "execution_count": 8
        }
      ]
    },
    {
      "cell_type": "code",
      "source": [
        "!ls -ltr /content/drive/MyDrive/data/strata"
      ],
      "metadata": {
        "id": "7t4SwSrkS9LR",
        "colab": {
          "base_uri": "https://localhost:8080/"
        },
        "outputId": "51c02033-7849-4273-f099-36437821828c"
      },
      "execution_count": 12,
      "outputs": [
        {
          "output_type": "stream",
          "name": "stdout",
          "text": [
            "total 2\n",
            "-rw------- 1 root root 1465 Nov 18 12:55 employee.csv\n",
            "-rw------- 1 root root  382 Nov 18 13:26 kpmg_2nd_highest_salary.csv\n"
          ]
        }
      ]
    },
    {
      "cell_type": "code",
      "source": [
        "df = spark.read.csv(\"/content/drive/MyDrive/data/strata/employee.csv\",inferSchema=True,header=True)"
      ],
      "metadata": {
        "id": "ILwnNXrSl4UW"
      },
      "execution_count": 20,
      "outputs": []
    },
    {
      "cell_type": "code",
      "source": [
        "df.show()"
      ],
      "metadata": {
        "id": "emd1y-GwmJdX",
        "outputId": "e1263d52-6998-4775-bd17-bb00b4006540",
        "colab": {
          "base_uri": "https://localhost:8080/"
        }
      },
      "execution_count": 21,
      "outputs": [
        {
          "output_type": "stream",
          "name": "stdout",
          "text": [
            "+---+---------+-------------------+------------+---------+---------------+-------------+-----------+\n",
            "| id|worker_id|    login_timestamp|  ip_address|  country|         region|         city|device_type|\n",
            "+---+---------+-------------------+------------+---------+---------------+-------------+-----------+\n",
            "|  1|      101|2023-11-18 10:00:00| 192.168.1.1|    India|          Delhi|        Delhi|    Desktop|\n",
            "|  2|      102|2023-11-18 11:00:00| 192.168.1.2|    India|         Mumbai|       Mumbai|     Mobile|\n",
            "|  3|      103|2023-11-18 12:00:00| 192.168.1.3|      USA|     California|San Francisco|     Laptop|\n",
            "|  4|      104|2023-11-18 13:00:00| 192.168.1.4|       UK|        England|       London|     Tablet|\n",
            "|  5|      105|2023-11-18 14:00:00| 192.168.1.5|Australia|New South Wales|       Sydney|    Desktop|\n",
            "|  6|      106|2023-11-18 15:00:00| 192.168.1.6|   Canada|        Ontario|      Toronto|     Mobile|\n",
            "|  7|      107|2023-11-18 16:00:00| 192.168.1.7|  Germany|        Bavaria|       Munich|     Laptop|\n",
            "|  8|      108|2023-11-18 17:00:00| 192.168.1.8|   France|  Île-de-France|        Paris|     Tablet|\n",
            "|  9|      109|2023-11-18 18:00:00| 192.168.1.9|    Italy|       Lombardy|        Milan|    Desktop|\n",
            "| 10|      110|2023-11-18 19:00:00|192.168.1.10|    Spain|         Madrid|       Madrid|     Mobile|\n",
            "| 11|      111|2023-11-19 10:00:00|192.168.1.11|    India|          Delhi|        Delhi|     Laptop|\n",
            "| 12|      112|2023-11-19 11:00:00|192.168.1.12|    India|         Mumbai|       Mumbai|     Tablet|\n",
            "| 13|      113|2023-11-19 12:00:00|192.168.1.13|      USA|     California|San Francisco|    Desktop|\n",
            "| 14|      114|2023-11-19 13:00:00|192.168.1.14|       UK|        England|       London|     Mobile|\n",
            "| 15|      115|2023-11-19 14:00:00|192.168.1.15|Australia|New South Wales|       Sydney|     Laptop|\n",
            "| 16|      116|2023-11-19 15:00:00|192.168.1.16|   Canada|        Ontario|      Toronto|     Tablet|\n",
            "| 17|      117|2023-11-19 16:00:00|192.168.1.17|  Germany|        Bavaria|       Munich|     Laptop|\n",
            "| 18|      118|2023-11-19 17:00:00|192.168.1.18|   France|  Île-de-France|        Paris|     Tablet|\n",
            "| 19|      119|2023-11-19 18:00:00|192.168.1.19|    Italy|       Lombardy|        Milan|    Desktop|\n",
            "| 20|      120|2023-11-19 19:00:00|192.168.1.20|    Spain|         Madrid|       Madrid|     Mobile|\n",
            "+---+---------+-------------------+------------+---------+---------------+-------------+-----------+\n",
            "\n"
          ]
        }
      ]
    },
    {
      "cell_type": "code",
      "source": [
        "df.groupBy(\"country\").count().show()"
      ],
      "metadata": {
        "id": "5OoBYWpAndg2",
        "outputId": "b89edfa5-5976-412b-8677-be9c45c0f9ab",
        "colab": {
          "base_uri": "https://localhost:8080/"
        }
      },
      "execution_count": 22,
      "outputs": [
        {
          "output_type": "stream",
          "name": "stdout",
          "text": [
            "+---------+-----+\n",
            "|  country|count|\n",
            "+---------+-----+\n",
            "|  Germany|    2|\n",
            "|   France|    2|\n",
            "|    India|    4|\n",
            "|    Italy|    2|\n",
            "|    Spain|    2|\n",
            "|      USA|    2|\n",
            "|       UK|    2|\n",
            "|   Canada|    2|\n",
            "|Australia|    2|\n",
            "+---------+-----+\n",
            "\n"
          ]
        }
      ]
    },
    {
      "cell_type": "code",
      "source": [
        "df.groupBy(\"region\").count().show()"
      ],
      "metadata": {
        "id": "P7nhlV8Gqayf",
        "outputId": "7d5a1458-e774-4708-96b2-1a9a5254c430",
        "colab": {
          "base_uri": "https://localhost:8080/"
        }
      },
      "execution_count": 23,
      "outputs": [
        {
          "output_type": "stream",
          "name": "stdout",
          "text": [
            "+---------------+-----+\n",
            "|         region|count|\n",
            "+---------------+-----+\n",
            "|         Madrid|    2|\n",
            "|       Lombardy|    2|\n",
            "|         Mumbai|    2|\n",
            "|        Bavaria|    2|\n",
            "|New South Wales|    2|\n",
            "|  Île-de-France|    2|\n",
            "|        Ontario|    2|\n",
            "|          Delhi|    2|\n",
            "|        England|    2|\n",
            "|     California|    2|\n",
            "+---------------+-----+\n",
            "\n"
          ]
        }
      ]
    },
    {
      "cell_type": "code",
      "source": [
        "df1 = spark.read.csv(\"/content/drive/MyDrive/data/strata/kpmg_2nd_highest_salary.csv\",inferSchema=True,header=True)"
      ],
      "metadata": {
        "id": "7sFRFcSbqlMW"
      },
      "execution_count": 24,
      "outputs": []
    },
    {
      "cell_type": "code",
      "source": [
        "df1.show()"
      ],
      "metadata": {
        "id": "SFEA8ahzqycX",
        "outputId": "3596127b-df04-4d81-eb8f-8f40bd3c34b2",
        "colab": {
          "base_uri": "https://localhost:8080/"
        }
      },
      "execution_count": 25,
      "outputs": [
        {
          "output_type": "stream",
          "name": "stdout",
          "text": [
            "+----------+-----------+------+----------+----+\n",
            "|mployee_id| department|salary| hire_date|rank|\n",
            "+----------+-----------+------+----------+----+\n",
            "|        10|Engineering| 60000|2019-02-09|   1|\n",
            "|        18|         HR|120000|2016-05-26|   1|\n",
            "|        17|         HR| 90000|2017-12-19|   2|\n",
            "|        23|         HR| 75000|2017-01-18|   3|\n",
            "|         4|  Marketing|120000|2017-05-07|   1|\n",
            "|        19|  Marketing|120000|2019-09-03|   1|\n",
            "|        11|  Marketing|110000|2015-01-23|   2|\n",
            "|        25|  Marketing|110000|2019-05-05|   2|\n",
            "|        21|  Marketing|110000|2017-09-03|   2|\n",
            "|        12|  Marketing| 90000|2016-12-01|   3|\n",
            "|        31|  Marketing| 90000|2015-07-10|   3|\n",
            "+----------+-----------+------+----------+----+\n",
            "\n"
          ]
        }
      ]
    },
    {
      "cell_type": "code",
      "source": [
        "df1.printSchema()"
      ],
      "metadata": {
        "id": "AXpKXxsDrFR-",
        "outputId": "06c6f073-d453-4bbe-ee3c-b736baf7fc32",
        "colab": {
          "base_uri": "https://localhost:8080/"
        }
      },
      "execution_count": 29,
      "outputs": [
        {
          "output_type": "stream",
          "name": "stdout",
          "text": [
            "root\n",
            " |-- mployee_id: integer (nullable = true)\n",
            " |-- department: string (nullable = true)\n",
            " |-- salary: integer (nullable = true)\n",
            " |-- hire_date: date (nullable = true)\n",
            " |-- rank: integer (nullable = true)\n",
            "\n"
          ]
        }
      ]
    },
    {
      "cell_type": "code",
      "source": [
        "df1.groupBy(\"department\").count().show()"
      ],
      "metadata": {
        "id": "aaEJyNATq2AE",
        "outputId": "eb340ed1-9e00-4856-ebfd-b6b8ca725d46",
        "colab": {
          "base_uri": "https://localhost:8080/"
        }
      },
      "execution_count": 30,
      "outputs": [
        {
          "output_type": "stream",
          "name": "stdout",
          "text": [
            "+-----------+-----+\n",
            "| department|count|\n",
            "+-----------+-----+\n",
            "|Engineering|    1|\n",
            "|         HR|    3|\n",
            "|  Marketing|    7|\n",
            "+-----------+-----+\n",
            "\n"
          ]
        }
      ]
    },
    {
      "cell_type": "code",
      "source": [
        "from pyspark.sql.window import Window\n",
        "from pyspark.sql.functions import rank,dense_rank"
      ],
      "metadata": {
        "id": "6gN8029aq9Xj"
      },
      "execution_count": 36,
      "outputs": []
    },
    {
      "cell_type": "code",
      "source": [
        "windowSpec= Window.partitionBy(\"department\").orderBy(\"salary\",\"hire_date\")"
      ],
      "metadata": {
        "id": "WlcKTS38sLMD"
      },
      "execution_count": 48,
      "outputs": []
    },
    {
      "cell_type": "code",
      "source": [
        "df1.withColumn(\"cus_rank\",dense_rank().over(windowSpec)).show()"
      ],
      "metadata": {
        "id": "L8jD9ZQsswaL",
        "outputId": "2fbe5fd4-5252-45df-9729-42fc897aa9ec",
        "colab": {
          "base_uri": "https://localhost:8080/"
        }
      },
      "execution_count": 49,
      "outputs": [
        {
          "output_type": "stream",
          "name": "stdout",
          "text": [
            "+----------+-----------+------+----------+----+--------+\n",
            "|mployee_id| department|salary| hire_date|rank|cus_rank|\n",
            "+----------+-----------+------+----------+----+--------+\n",
            "|        10|Engineering| 60000|2019-02-09|   1|       1|\n",
            "|        23|         HR| 75000|2017-01-18|   3|       1|\n",
            "|        17|         HR| 90000|2017-12-19|   2|       2|\n",
            "|        18|         HR|120000|2016-05-26|   1|       3|\n",
            "|        31|  Marketing| 90000|2015-07-10|   3|       1|\n",
            "|        12|  Marketing| 90000|2016-12-01|   3|       2|\n",
            "|        11|  Marketing|110000|2015-01-23|   2|       3|\n",
            "|        21|  Marketing|110000|2017-09-03|   2|       4|\n",
            "|        25|  Marketing|110000|2019-05-05|   2|       5|\n",
            "|         4|  Marketing|120000|2017-05-07|   1|       6|\n",
            "|        19|  Marketing|120000|2019-09-03|   1|       7|\n",
            "+----------+-----------+------+----------+----+--------+\n",
            "\n"
          ]
        }
      ]
    },
    {
      "cell_type": "code",
      "source": [
        "df2 =df1.withColumn(\"cus_rank\",dense_rank().over(windowSpec))\n",
        "#.filter(\"cus_rank=2\").show()\n",
        "df2.show()"
      ],
      "metadata": {
        "id": "oaxFOn2dsXK3",
        "outputId": "23d2d479-7e36-4e82-e89a-65b8d89c86eb",
        "colab": {
          "base_uri": "https://localhost:8080/"
        }
      },
      "execution_count": 50,
      "outputs": [
        {
          "output_type": "stream",
          "name": "stdout",
          "text": [
            "+----------+-----------+------+----------+----+--------+\n",
            "|mployee_id| department|salary| hire_date|rank|cus_rank|\n",
            "+----------+-----------+------+----------+----+--------+\n",
            "|        10|Engineering| 60000|2019-02-09|   1|       1|\n",
            "|        23|         HR| 75000|2017-01-18|   3|       1|\n",
            "|        17|         HR| 90000|2017-12-19|   2|       2|\n",
            "|        18|         HR|120000|2016-05-26|   1|       3|\n",
            "|        31|  Marketing| 90000|2015-07-10|   3|       1|\n",
            "|        12|  Marketing| 90000|2016-12-01|   3|       2|\n",
            "|        11|  Marketing|110000|2015-01-23|   2|       3|\n",
            "|        21|  Marketing|110000|2017-09-03|   2|       4|\n",
            "|        25|  Marketing|110000|2019-05-05|   2|       5|\n",
            "|         4|  Marketing|120000|2017-05-07|   1|       6|\n",
            "|        19|  Marketing|120000|2019-09-03|   1|       7|\n",
            "+----------+-----------+------+----------+----+--------+\n",
            "\n"
          ]
        }
      ]
    },
    {
      "cell_type": "code",
      "source": [
        "df2.filter(df2.cus_rank==2).show()"
      ],
      "metadata": {
        "id": "-y8pY9HYsjkB",
        "outputId": "04b5f540-5d95-4586-c9b0-127bd2fcfee7",
        "colab": {
          "base_uri": "https://localhost:8080/"
        }
      },
      "execution_count": 51,
      "outputs": [
        {
          "output_type": "stream",
          "name": "stdout",
          "text": [
            "+----------+----------+------+----------+----+--------+\n",
            "|mployee_id|department|salary| hire_date|rank|cus_rank|\n",
            "+----------+----------+------+----------+----+--------+\n",
            "|        17|        HR| 90000|2017-12-19|   2|       2|\n",
            "|        12| Marketing| 90000|2016-12-01|   3|       2|\n",
            "+----------+----------+------+----------+----+--------+\n",
            "\n"
          ]
        }
      ]
    },
    {
      "cell_type": "code",
      "source": [
        "df.createOrReplaceTempView(\"df1_temp\")"
      ],
      "metadata": {
        "id": "OMDybGEI1Ihf"
      },
      "execution_count": 61,
      "outputs": []
    },
    {
      "cell_type": "code",
      "source": [
        "!pip install --upgrade delta-spark"
      ],
      "metadata": {
        "id": "XmZabV7I2A6V",
        "outputId": "82f7a868-8f08-4654-d1b2-4b16011a0d78",
        "colab": {
          "base_uri": "https://localhost:8080/"
        }
      },
      "execution_count": 65,
      "outputs": [
        {
          "output_type": "stream",
          "name": "stdout",
          "text": [
            "Collecting delta-spark\n",
            "  Downloading delta_spark-3.2.1-py3-none-any.whl.metadata (1.9 kB)\n",
            "Requirement already satisfied: pyspark<3.6.0,>=3.5.3 in /usr/local/lib/python3.10/dist-packages (from delta-spark) (3.5.3)\n",
            "Requirement already satisfied: importlib-metadata>=1.0.0 in /usr/local/lib/python3.10/dist-packages (from delta-spark) (8.5.0)\n",
            "Requirement already satisfied: zipp>=3.20 in /usr/local/lib/python3.10/dist-packages (from importlib-metadata>=1.0.0->delta-spark) (3.21.0)\n",
            "Requirement already satisfied: py4j==0.10.9.7 in /usr/local/lib/python3.10/dist-packages (from pyspark<3.6.0,>=3.5.3->delta-spark) (0.10.9.7)\n",
            "Downloading delta_spark-3.2.1-py3-none-any.whl (21 kB)\n",
            "Installing collected packages: delta-spark\n",
            "Successfully installed delta-spark-3.2.1\n"
          ]
        }
      ]
    },
    {
      "cell_type": "code",
      "source": [],
      "metadata": {
        "id": "GLS9ncwc07jQ"
      },
      "execution_count": null,
      "outputs": []
    }
  ]
}