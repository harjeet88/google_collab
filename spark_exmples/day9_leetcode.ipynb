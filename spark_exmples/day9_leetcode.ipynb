{
  "nbformat": 4,
  "nbformat_minor": 0,
  "metadata": {
    "colab": {
      "provenance": [],
      "toc_visible": true,
      "include_colab_link": true
    },
    "kernelspec": {
      "name": "python3",
      "display_name": "Python 3"
    },
    "language_info": {
      "name": "python"
    }
  },
  "cells": [
    {
      "cell_type": "markdown",
      "metadata": {
        "id": "view-in-github",
        "colab_type": "text"
      },
      "source": [
        "<a href=\"https://colab.research.google.com/github/harjeet88/google_collab/blob/main/spark_exmples/day9_leetcode.ipynb\" target=\"_parent\"><img src=\"https://colab.research.google.com/assets/colab-badge.svg\" alt=\"Open In Colab\"/></a>"
      ]
    },
    {
      "cell_type": "code",
      "source": [
        "from google.colab import drive\n",
        "drive.mount('/content/drive')"
      ],
      "metadata": {
        "colab": {
          "base_uri": "https://localhost:8080/"
        },
        "id": "8F1kC7EGR7LY",
        "outputId": "c63a5b19-ba1c-40c5-f922-02b6ffbb1277"
      },
      "execution_count": null,
      "outputs": [
        {
          "output_type": "stream",
          "name": "stdout",
          "text": [
            "Mounted at /content/drive\n"
          ]
        }
      ]
    },
    {
      "cell_type": "code",
      "source": [
        "!chmod -R +x /content/drive/MyDrive/installs/"
      ],
      "metadata": {
        "id": "IrXNe2xuSQ_h"
      },
      "execution_count": null,
      "outputs": []
    },
    {
      "cell_type": "code",
      "source": [
        "import os\n",
        "java_path = '/content/drive/MyDrive/installs/jdk-11.0.2/'\n",
        "os.environ['JAVA_HOME'] = java_path\n",
        "os.environ['PATH'] = os.environ['JAVA_HOME'] + '/bin:' + os.environ['PATH']\n",
        "# Verify installation\n",
        "!java -version\n",
        "!which java"
      ],
      "metadata": {
        "colab": {
          "base_uri": "https://localhost:8080/"
        },
        "id": "lX0o8H34SpgU",
        "outputId": "38b9fb5d-6e31-4b86-c3e6-584a870c4480"
      },
      "execution_count": null,
      "outputs": [
        {
          "output_type": "stream",
          "name": "stdout",
          "text": [
            "openjdk version \"11.0.2\" 2019-01-15\n",
            "OpenJDK Runtime Environment 18.9 (build 11.0.2+9)\n",
            "OpenJDK 64-Bit Server VM 18.9 (build 11.0.2+9, mixed mode)\n",
            "/content/drive/MyDrive/installs/jdk-11.0.2//bin/java\n"
          ]
        }
      ]
    },
    {
      "cell_type": "code",
      "execution_count": null,
      "metadata": {
        "id": "0F9G3_cJRrDE"
      },
      "outputs": [],
      "source": [
        "import pyspark\n",
        "import os\n",
        "java_path = '/content/drive/MyDrive/installs/jdk-11.0.2/'\n",
        "os.environ['JAVA_HOME'] = java_path\n",
        "os.environ[\"SPARK_HOME\"] = \"drive/MyDrive/installs/spark-3.5.1-bin-hadoop3\"\n",
        "os.environ[\"PYSPARK_PYTHON\"] = \"python3\"\n",
        "os.environ[\"PYSPARK_DRIVER_PYTHON\"] = \"python3\""
      ]
    },
    {
      "cell_type": "code",
      "source": [
        "import sys\n",
        "sys.path.append('/content/drive/MyDrive/installs/py_package') # Replace with your actual path"
      ],
      "metadata": {
        "id": "BjU_YCRVRyvc"
      },
      "execution_count": null,
      "outputs": []
    },
    {
      "cell_type": "code",
      "source": [
        "import findspark\n",
        "findspark.init()"
      ],
      "metadata": {
        "id": "GwqYDAhmSI3y"
      },
      "execution_count": null,
      "outputs": []
    },
    {
      "cell_type": "code",
      "source": [
        "from pyspark.sql import SparkSession\n",
        "MAX_MEMORY=\"8g\"\n",
        "maven_coords = [\n",
        "    \"org.apache.spark:spark-avro_2.12:3.2.1\",\n",
        "    \"io.delta:delta-core_2.12:2.0.0rc1\",\n",
        "    \"org.xerial:sqlite-jdbc:3.36.0.3\",\n",
        "    \"graphframes:graphframes:0.8.2-spark3.2-s_2.12\",\n",
        "    \"com.acervera.osm4scala:osm4scala-spark3-shaded_2.12:1.0.8\",\n",
        "]\n",
        "\n",
        "spark = (pyspark.sql.SparkSession.builder.appName(\"MyApp\")\n",
        "    .config(\"spark.jars.packages\", \",\".join(maven_coords))\n",
        "    .config(\"spark.sql.extensions\", \"io.delta.sql.DeltaSparkSessionExtension\")\n",
        "    .config(\"spark.sql.catalog.spark_catalog\", \"org.apache.spark.sql.delta.catalog.DeltaCatalog\")\n",
        "    .config(\"spark.executor.memory\", MAX_MEMORY)\n",
        "    .config(\"spark.driver.memory\", MAX_MEMORY)\n",
        "    .enableHiveSupport()\n",
        "    .getOrCreate()\n",
        "    )"
      ],
      "metadata": {
        "id": "yCMoU01-SLUc"
      },
      "execution_count": null,
      "outputs": []
    },
    {
      "cell_type": "code",
      "source": [
        "spark"
      ],
      "metadata": {
        "colab": {
          "base_uri": "https://localhost:8080/",
          "height": 221
        },
        "id": "nApQnNgqShB-",
        "outputId": "3c594eef-2664-45c4-8b06-005e632de93d"
      },
      "execution_count": null,
      "outputs": [
        {
          "output_type": "execute_result",
          "data": {
            "text/plain": [
              "<pyspark.sql.session.SparkSession at 0x796d986f0490>"
            ],
            "text/html": [
              "\n",
              "            <div>\n",
              "                <p><b>SparkSession - hive</b></p>\n",
              "                \n",
              "        <div>\n",
              "            <p><b>SparkContext</b></p>\n",
              "\n",
              "            <p><a href=\"http://d949c9204661:4040\">Spark UI</a></p>\n",
              "\n",
              "            <dl>\n",
              "              <dt>Version</dt>\n",
              "                <dd><code>v3.5.1</code></dd>\n",
              "              <dt>Master</dt>\n",
              "                <dd><code>local[*]</code></dd>\n",
              "              <dt>AppName</dt>\n",
              "                <dd><code>MyApp</code></dd>\n",
              "            </dl>\n",
              "        </div>\n",
              "        \n",
              "            </div>\n",
              "        "
            ]
          },
          "metadata": {},
          "execution_count": 8
        }
      ]
    },
    {
      "cell_type": "code",
      "source": [
        "from pyspark.sql.functions import *\n",
        "from os.path import join\n",
        "from ast import alias"
      ],
      "metadata": {
        "id": "UaA6E_XAGVsF"
      },
      "execution_count": null,
      "outputs": []
    },
    {
      "cell_type": "markdown",
      "source": [
        "#User Activity for the Past 30 Days I - 1141\n",
        "https://leetcode.com/problems/user-activity-for-the-past-30-days-i/description/?envType=study-plan-v2&envId=top-sql-50"
      ],
      "metadata": {
        "id": "zyn2hrVmuR1L"
      }
    },
    {
      "cell_type": "code",
      "source": [
        "%%writefile /content/drive/MyDrive/data/leetcode_sql180/user_activity_1141.csv\n",
        "user_id,session_id,activity_date,activity_type\n",
        "1,1,2019-07-20,open_session\n",
        "1,1,2019-07-20,scroll_down\n",
        "1,1,2019-07-20,end_session\n",
        "2,4,2019-07-20,open_session\n",
        "2,4,2019-07-21,send_message\n",
        "2,4,2019-07-21,end_session\n",
        "3,2,2019-07-21,open_session\n",
        "3,2,2019-07-21,send_message\n",
        "3,2,2019-07-21,end_session\n",
        "4,3,2019-06-25,open_session\n",
        "4,3,2019-06-25,end_session"
      ],
      "metadata": {
        "colab": {
          "base_uri": "https://localhost:8080/"
        },
        "id": "iK2Vmi8SFIAm",
        "outputId": "01d79dc2-543e-43b0-b095-53f40214fc82"
      },
      "execution_count": null,
      "outputs": [
        {
          "output_type": "stream",
          "name": "stdout",
          "text": [
            "Writing /content/drive/MyDrive/data/leetcode_sql180/user_activity_1141.csv\n"
          ]
        }
      ]
    },
    {
      "cell_type": "code",
      "source": [
        "df= spark.read.csv(\"/content/drive/MyDrive/data/leetcode_sql180/user_activity_1141.csv\",inferSchema=True,header=True)\n",
        "df.show()"
      ],
      "metadata": {
        "id": "IvwS-dkJqwZL",
        "outputId": "ede67faf-ee10-45c0-a994-be06f7250bc8",
        "colab": {
          "base_uri": "https://localhost:8080/"
        }
      },
      "execution_count": null,
      "outputs": [
        {
          "output_type": "stream",
          "name": "stdout",
          "text": [
            "+-------+----------+-------------+-------------+\n",
            "|user_id|session_id|activity_date|activity_type|\n",
            "+-------+----------+-------------+-------------+\n",
            "|      1|         1|   2019-07-20| open_session|\n",
            "|      1|         1|   2019-07-20|  scroll_down|\n",
            "|      1|         1|   2019-07-20|  end_session|\n",
            "|      2|         4|   2019-07-20| open_session|\n",
            "|      2|         4|   2019-07-21| send_message|\n",
            "|      2|         4|   2019-07-21|  end_session|\n",
            "|      3|         2|   2019-07-21| open_session|\n",
            "|      3|         2|   2019-07-21| send_message|\n",
            "|      3|         2|   2019-07-21|  end_session|\n",
            "|      4|         3|   2019-06-25| open_session|\n",
            "|      4|         3|   2019-06-25|  end_session|\n",
            "+-------+----------+-------------+-------------+\n",
            "\n"
          ]
        }
      ]
    },
    {
      "cell_type": "code",
      "source": [
        "df1 = df.groupBy(\"activity_date\").agg(countDistinct(\"user_id\").alias(\"user_count\"))\n",
        "df1.show()"
      ],
      "metadata": {
        "id": "FDvgJJNWWzup",
        "outputId": "10c7dc48-488b-443c-8707-237fa1499d7f",
        "colab": {
          "base_uri": "https://localhost:8080/"
        }
      },
      "execution_count": null,
      "outputs": [
        {
          "output_type": "stream",
          "name": "stdout",
          "text": [
            "+-------------+----------+\n",
            "|activity_date|user_count|\n",
            "+-------------+----------+\n",
            "|   2019-07-21|         2|\n",
            "|   2019-06-25|         1|\n",
            "|   2019-07-20|         2|\n",
            "+-------------+----------+\n",
            "\n"
          ]
        }
      ]
    },
    {
      "cell_type": "code",
      "source": [
        "#.filter(col(\"activity_date\")>\"2019-06-27\" & col(\"activity_date\")<=\"2019-07-27\")\n",
        "df1.where(df.activity_date.between(\"2019-06-28\",\"2019-07-27\")).show()"
      ],
      "metadata": {
        "id": "IhatUkAFXGsR",
        "outputId": "f3819b7c-1272-4655-8d93-ed0ff065adc7",
        "colab": {
          "base_uri": "https://localhost:8080/"
        }
      },
      "execution_count": null,
      "outputs": [
        {
          "output_type": "stream",
          "name": "stdout",
          "text": [
            "+-------------+----------+\n",
            "|activity_date|user_count|\n",
            "+-------------+----------+\n",
            "|   2019-07-21|         2|\n",
            "|   2019-07-20|         2|\n",
            "+-------------+----------+\n",
            "\n"
          ]
        }
      ]
    },
    {
      "cell_type": "code",
      "source": [
        "\n"
      ],
      "metadata": {
        "id": "3Hli96M3X_1n"
      },
      "execution_count": null,
      "outputs": []
    }
  ]
}