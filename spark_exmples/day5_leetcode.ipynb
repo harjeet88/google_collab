{
  "nbformat": 4,
  "nbformat_minor": 0,
  "metadata": {
    "colab": {
      "provenance": [],
      "toc_visible": true,
      "include_colab_link": true
    },
    "kernelspec": {
      "name": "python3",
      "display_name": "Python 3"
    },
    "language_info": {
      "name": "python"
    }
  },
  "cells": [
    {
      "cell_type": "markdown",
      "metadata": {
        "id": "view-in-github",
        "colab_type": "text"
      },
      "source": [
        "<a href=\"https://colab.research.google.com/github/harjeet88/google_collab/blob/main/spark_exmples/day5_leetcode.ipynb\" target=\"_parent\"><img src=\"https://colab.research.google.com/assets/colab-badge.svg\" alt=\"Open In Colab\"/></a>"
      ]
    },
    {
      "cell_type": "code",
      "source": [
        "from google.colab import drive\n",
        "drive.mount('/content/drive')"
      ],
      "metadata": {
        "colab": {
          "base_uri": "https://localhost:8080/"
        },
        "id": "8F1kC7EGR7LY",
        "outputId": "fde27cf2-2f8b-4c26-fb05-39e2cc24eda6"
      },
      "execution_count": null,
      "outputs": [
        {
          "output_type": "stream",
          "name": "stdout",
          "text": [
            "Mounted at /content/drive\n"
          ]
        }
      ]
    },
    {
      "cell_type": "code",
      "source": [
        "!chmod -R +x /content/drive/MyDrive/installs/"
      ],
      "metadata": {
        "id": "IrXNe2xuSQ_h"
      },
      "execution_count": null,
      "outputs": []
    },
    {
      "cell_type": "code",
      "source": [
        "import os\n",
        "java_path = '/content/drive/MyDrive/installs/jdk-11.0.2/'\n",
        "os.environ['JAVA_HOME'] = java_path\n",
        "os.environ['PATH'] = os.environ['JAVA_HOME'] + '/bin:' + os.environ['PATH']\n",
        "# Verify installation\n",
        "!java -version\n",
        "!which java"
      ],
      "metadata": {
        "colab": {
          "base_uri": "https://localhost:8080/"
        },
        "id": "lX0o8H34SpgU",
        "outputId": "9cda12cf-834e-4c5a-e862-e22effac4c1c"
      },
      "execution_count": null,
      "outputs": [
        {
          "output_type": "stream",
          "name": "stdout",
          "text": [
            "openjdk version \"11.0.2\" 2019-01-15\n",
            "OpenJDK Runtime Environment 18.9 (build 11.0.2+9)\n",
            "OpenJDK 64-Bit Server VM 18.9 (build 11.0.2+9, mixed mode)\n",
            "/content/drive/MyDrive/installs/jdk-11.0.2//bin/java\n"
          ]
        }
      ]
    },
    {
      "cell_type": "code",
      "execution_count": null,
      "metadata": {
        "id": "0F9G3_cJRrDE"
      },
      "outputs": [],
      "source": [
        "import pyspark\n",
        "import os\n",
        "java_path = '/content/drive/MyDrive/installs/jdk-11.0.2/'\n",
        "os.environ['JAVA_HOME'] = java_path\n",
        "os.environ[\"SPARK_HOME\"] = \"drive/MyDrive/installs/spark-3.5.1-bin-hadoop3\"\n",
        "os.environ[\"PYSPARK_PYTHON\"] = \"python3\"\n",
        "os.environ[\"PYSPARK_DRIVER_PYTHON\"] = \"python3\""
      ]
    },
    {
      "cell_type": "code",
      "source": [
        "import sys\n",
        "sys.path.append('/content/drive/MyDrive/installs/py_package') # Replace with your actual path"
      ],
      "metadata": {
        "id": "BjU_YCRVRyvc"
      },
      "execution_count": null,
      "outputs": []
    },
    {
      "cell_type": "code",
      "source": [
        "import findspark\n",
        "findspark.init()"
      ],
      "metadata": {
        "id": "GwqYDAhmSI3y"
      },
      "execution_count": null,
      "outputs": []
    },
    {
      "cell_type": "code",
      "source": [
        "from pyspark.sql import SparkSession\n",
        "MAX_MEMORY=\"8g\"\n",
        "maven_coords = [\n",
        "    \"org.apache.spark:spark-avro_2.12:3.2.1\",\n",
        "    \"io.delta:delta-core_2.12:2.0.0rc1\",\n",
        "    \"org.xerial:sqlite-jdbc:3.36.0.3\",\n",
        "    \"graphframes:graphframes:0.8.2-spark3.2-s_2.12\",\n",
        "    \"com.acervera.osm4scala:osm4scala-spark3-shaded_2.12:1.0.8\",\n",
        "]\n",
        "\n",
        "spark = (pyspark.sql.SparkSession.builder.appName(\"MyApp\")\n",
        "    .config(\"spark.jars.packages\", \",\".join(maven_coords))\n",
        "    .config(\"spark.sql.extensions\", \"io.delta.sql.DeltaSparkSessionExtension\")\n",
        "    .config(\"spark.sql.catalog.spark_catalog\", \"org.apache.spark.sql.delta.catalog.DeltaCatalog\")\n",
        "    .config(\"spark.executor.memory\", MAX_MEMORY)\n",
        "    .config(\"spark.driver.memory\", MAX_MEMORY)\n",
        "    .enableHiveSupport()\n",
        "    .getOrCreate()\n",
        "    )"
      ],
      "metadata": {
        "id": "yCMoU01-SLUc"
      },
      "execution_count": null,
      "outputs": []
    },
    {
      "cell_type": "code",
      "source": [
        "spark"
      ],
      "metadata": {
        "colab": {
          "base_uri": "https://localhost:8080/",
          "height": 221
        },
        "id": "nApQnNgqShB-",
        "outputId": "fecb4e52-1095-4898-c73c-dddc811e1a21"
      },
      "execution_count": null,
      "outputs": [
        {
          "output_type": "execute_result",
          "data": {
            "text/plain": [
              "<pyspark.sql.session.SparkSession at 0x7c656dcaae00>"
            ],
            "text/html": [
              "\n",
              "            <div>\n",
              "                <p><b>SparkSession - hive</b></p>\n",
              "                \n",
              "        <div>\n",
              "            <p><b>SparkContext</b></p>\n",
              "\n",
              "            <p><a href=\"http://360ca15d471e:4040\">Spark UI</a></p>\n",
              "\n",
              "            <dl>\n",
              "              <dt>Version</dt>\n",
              "                <dd><code>v3.5.1</code></dd>\n",
              "              <dt>Master</dt>\n",
              "                <dd><code>local[*]</code></dd>\n",
              "              <dt>AppName</dt>\n",
              "                <dd><code>MyApp</code></dd>\n",
              "            </dl>\n",
              "        </div>\n",
              "        \n",
              "            </div>\n",
              "        "
            ]
          },
          "metadata": {},
          "execution_count": 9
        }
      ]
    },
    {
      "cell_type": "markdown",
      "source": [
        "# Fix Names\n",
        "https://leetcode.com/problems/fix-names-in-a-table/description/?envType=study-plan-v2&envId=top-sql-50"
      ],
      "metadata": {
        "id": "wJeQXixcDVyZ"
      }
    },
    {
      "cell_type": "code",
      "source": [
        "%%writefile /content/drive/MyDrive/data/leetcode_sql180/fix_names_1667.csv\n",
        "user_id,name\n",
        "1,aLice\n",
        "2,bOB"
      ],
      "metadata": {
        "colab": {
          "base_uri": "https://localhost:8080/"
        },
        "id": "iK2Vmi8SFIAm",
        "outputId": "3b08ef55-c30b-4cef-bfc5-da89b7ff17d3"
      },
      "execution_count": null,
      "outputs": [
        {
          "output_type": "stream",
          "name": "stdout",
          "text": [
            "Writing /content/drive/MyDrive/data/leetcode_sql180/fix_names_1667.csv\n"
          ]
        }
      ]
    },
    {
      "cell_type": "code",
      "source": [
        "from pyspark.sql.functions import *\n",
        "from os.path import join\n",
        "from ast import alias"
      ],
      "metadata": {
        "id": "UaA6E_XAGVsF"
      },
      "execution_count": null,
      "outputs": []
    },
    {
      "cell_type": "code",
      "source": [
        "df = spark.read.csv(\"/content/drive/MyDrive/data/leetcode_sql180/fix_names_1667.csv\",inferSchema=True,header=True)"
      ],
      "metadata": {
        "id": "7F4kr_gSCxN4"
      },
      "execution_count": null,
      "outputs": []
    },
    {
      "cell_type": "code",
      "source": [
        "df.show()"
      ],
      "metadata": {
        "id": "B-DiNg96DBqw",
        "outputId": "ec7b833e-5f12-498a-87a8-58d56ca46a65",
        "colab": {
          "base_uri": "https://localhost:8080/"
        }
      },
      "execution_count": null,
      "outputs": [
        {
          "output_type": "stream",
          "name": "stdout",
          "text": [
            "+-------+-----+\n",
            "|user_id| name|\n",
            "+-------+-----+\n",
            "|      1|aLice|\n",
            "|      2|  bOB|\n",
            "+-------+-----+\n",
            "\n"
          ]
        }
      ]
    },
    {
      "cell_type": "code",
      "source": [
        "df.withColumn(\"nameCap\",initcap(col(\"name\"))).show()"
      ],
      "metadata": {
        "id": "v1DGFRYrDXfp",
        "outputId": "d5c679df-4cb6-4748-e035-507f9525e6e8",
        "colab": {
          "base_uri": "https://localhost:8080/"
        }
      },
      "execution_count": null,
      "outputs": [
        {
          "output_type": "stream",
          "name": "stdout",
          "text": [
            "+-------+-----+-------+\n",
            "|user_id| name|nameCap|\n",
            "+-------+-----+-------+\n",
            "|      1|aLice|  Alice|\n",
            "|      2|  bOB|    Bob|\n",
            "+-------+-----+-------+\n",
            "\n"
          ]
        }
      ]
    },
    {
      "cell_type": "code",
      "source": [
        "df1 = df.withColumn(\"nameCap\",concat(substring(col(\"name\"), 1, 1), \\\n",
        "                                     lower(substring(col(\"name\"), 2,3))))\n",
        "\n",
        "df1.show()"
      ],
      "metadata": {
        "id": "7EP9Kd_oDcZv",
        "outputId": "73172182-a367-4fdd-84ab-3bf58ad08aec",
        "colab": {
          "base_uri": "https://localhost:8080/"
        }
      },
      "execution_count": null,
      "outputs": [
        {
          "output_type": "stream",
          "name": "stdout",
          "text": [
            "+-------+-----+-------+\n",
            "|user_id| name|nameCap|\n",
            "+-------+-----+-------+\n",
            "|      1|aLice|   alic|\n",
            "|      2|  bOB|    bob|\n",
            "+-------+-----+-------+\n",
            "\n"
          ]
        }
      ]
    },
    {
      "cell_type": "code",
      "source": [
        "df.withColumn(\"length\", length(col(\"name\"))).show()"
      ],
      "metadata": {
        "id": "Ps70V0SHD9S9",
        "outputId": "0fa26a69-08ed-4068-a23a-8c6ef529ce09",
        "colab": {
          "base_uri": "https://localhost:8080/"
        }
      },
      "execution_count": null,
      "outputs": [
        {
          "output_type": "stream",
          "name": "stdout",
          "text": [
            "+-------+-----+------+\n",
            "|user_id| name|length|\n",
            "+-------+-----+------+\n",
            "|      1|aLice|     5|\n",
            "|      2|  bOB|     3|\n",
            "+-------+-----+------+\n",
            "\n"
          ]
        }
      ]
    },
    {
      "cell_type": "markdown",
      "source": [
        "#Patient conditions\n",
        "https://leetcode.com/problems/patients-with-a-condition/description/?envType=study-plan-v2&envId=top-sql-50"
      ],
      "metadata": {
        "id": "mFPCtnPTQVCZ"
      }
    },
    {
      "cell_type": "code",
      "source": [
        "%%writefile /content/drive/MyDrive/data/leetcode_sql180/patient_conditions_1527.csv\n",
        "patient_id,patient_name,conditions\n",
        "1,Daniel,YFEV COUGH\n",
        "2,Alice,\n",
        "3,Bob,DIAB100 MYOP\n",
        "4,George,ACNE DIAB100\n",
        "5,Alain,DIAB201"
      ],
      "metadata": {
        "id": "ZDtzdE-kK9UZ",
        "outputId": "4efc6b80-b4dc-4d95-c84b-ddefaaf2cc99",
        "colab": {
          "base_uri": "https://localhost:8080/"
        }
      },
      "execution_count": null,
      "outputs": [
        {
          "output_type": "stream",
          "name": "stdout",
          "text": [
            "Writing /content/drive/MyDrive/data/leetcode_sql180/patient_conditions_1527.csv\n"
          ]
        }
      ]
    },
    {
      "cell_type": "code",
      "source": [
        "df = spark.read.csv(\"/content/drive/MyDrive/data/leetcode_sql180/patient_conditions_1527.csv\",inferSchema=True,header=True)"
      ],
      "metadata": {
        "id": "yL19Wc5VQfm9"
      },
      "execution_count": null,
      "outputs": []
    },
    {
      "cell_type": "code",
      "source": [
        "df1 = df.where(df.conditions.like(\"%DIAB1%\"))\n",
        "df1.show()"
      ],
      "metadata": {
        "id": "ZF0mAkVRZ0Pk",
        "outputId": "eed20019-8242-4fa1-a75a-c772d705fe4c",
        "colab": {
          "base_uri": "https://localhost:8080/"
        }
      },
      "execution_count": null,
      "outputs": [
        {
          "output_type": "stream",
          "name": "stdout",
          "text": [
            "+----------+------------+------------+\n",
            "|patient_id|patient_name|  conditions|\n",
            "+----------+------------+------------+\n",
            "|         3|         Bob|DIAB100 MYOP|\n",
            "|         4|      George|ACNE DIAB100|\n",
            "+----------+------------+------------+\n",
            "\n"
          ]
        }
      ]
    },
    {
      "cell_type": "code",
      "source": [
        "%%writefile /content/drive/MyDrive/data/leetcode_sql180/investment_2016_585.csv\n",
        "pid,tiv_2015,tiv_2016,lat,lon\n",
        "1,10,5,10,10\n",
        "2,20,20,20,20\n",
        "3,10,30,20,20\n",
        "4,10,40,40,40"
      ],
      "metadata": {
        "id": "JTpc7drFaZx3",
        "outputId": "b280a99f-1b98-4d9d-b2ee-a0ea32127089",
        "colab": {
          "base_uri": "https://localhost:8080/"
        }
      },
      "execution_count": null,
      "outputs": [
        {
          "output_type": "stream",
          "name": "stdout",
          "text": [
            "Writing /content/drive/MyDrive/data/leetcode_sql180/investment_2016_585.csv\n"
          ]
        }
      ]
    },
    {
      "cell_type": "code",
      "source": [
        "df = spark.read.csv(\"/content/drive/MyDrive/data/leetcode_sql180/investment_2016_585.csv\",inferSchema=True,header=True)"
      ],
      "metadata": {
        "id": "_SXtD6lH5bHP"
      },
      "execution_count": null,
      "outputs": []
    },
    {
      "cell_type": "code",
      "source": [
        "df.show()"
      ],
      "metadata": {
        "id": "7jqPVF805odG",
        "outputId": "a7605c2b-0c2a-4dc5-f2b9-638dc583711a",
        "colab": {
          "base_uri": "https://localhost:8080/"
        }
      },
      "execution_count": null,
      "outputs": [
        {
          "output_type": "stream",
          "name": "stdout",
          "text": [
            "+---+--------+--------+---+---+\n",
            "|pid|tiv_2015|tiv_2016|lat|lon|\n",
            "+---+--------+--------+---+---+\n",
            "|  1|      10|       5| 10| 10|\n",
            "|  2|      20|      20| 20| 20|\n",
            "|  3|      10|      30| 20| 20|\n",
            "|  4|      10|      40| 40| 40|\n",
            "+---+--------+--------+---+---+\n",
            "\n"
          ]
        }
      ]
    },
    {
      "cell_type": "code",
      "source": [
        "df.createOrReplaceTempView(\"investments\")"
      ],
      "metadata": {
        "id": "ix_0-F5I5sbQ"
      },
      "execution_count": null,
      "outputs": []
    },
    {
      "cell_type": "code",
      "source": [
        "from pyspark.sql.functions import col,sum"
      ],
      "metadata": {
        "id": "6j-7lKHW6gy2"
      },
      "execution_count": null,
      "outputs": []
    },
    {
      "cell_type": "code",
      "source": [
        "df1 = df.groupBy(\"lat\",\"lon\").count().filter(col(\"count\") == 1).join(df,[\"lat\",\"lon\"],\"inner\")"
      ],
      "metadata": {
        "id": "YOIXjFBb5xbD"
      },
      "execution_count": null,
      "outputs": []
    },
    {
      "cell_type": "code",
      "source": [
        "df2 = df1.groupBy(\"tiv_2015\").count().filter(col(\"count\") > 1).join(df1,[\"tiv_2015\"],\"inner\")"
      ],
      "metadata": {
        "id": "bN4GMygs6LOY"
      },
      "execution_count": null,
      "outputs": []
    },
    {
      "cell_type": "code",
      "source": [
        "df2 = df2.withColumn(\"tiv_2016\", col(\"tiv_2016\").cast(\"int\"))"
      ],
      "metadata": {
        "id": "SGOYtb1H7uMx"
      },
      "execution_count": null,
      "outputs": []
    },
    {
      "cell_type": "code",
      "source": [
        "df2.select(sum(col(\"tiv_2016\"))).show()"
      ],
      "metadata": {
        "id": "cB9wy9mp6xYd",
        "outputId": "6b9f9906-927d-4dbe-b016-c2d3dd338fa5",
        "colab": {
          "base_uri": "https://localhost:8080/"
        }
      },
      "execution_count": null,
      "outputs": [
        {
          "output_type": "stream",
          "name": "stdout",
          "text": [
            "+-------------+\n",
            "|sum(tiv_2016)|\n",
            "+-------------+\n",
            "|           45|\n",
            "+-------------+\n",
            "\n"
          ]
        }
      ]
    },
    {
      "cell_type": "code",
      "source": [],
      "metadata": {
        "id": "9-cn1TKf7Qig"
      },
      "execution_count": null,
      "outputs": []
    }
  ]
}