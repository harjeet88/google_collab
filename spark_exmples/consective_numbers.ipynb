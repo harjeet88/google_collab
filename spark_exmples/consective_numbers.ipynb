{
  "nbformat": 4,
  "nbformat_minor": 0,
  "metadata": {
    "colab": {
      "provenance": [],
      "mount_file_id": "https://github.com/harjeet88/google_collab/blob/main/setup/env_setup_test.ipynb",
      "authorship_tag": "ABX9TyNQUaHm2P0L0su/2YhHeB9m",
      "include_colab_link": true
    },
    "kernelspec": {
      "name": "python3",
      "display_name": "Python 3"
    },
    "language_info": {
      "name": "python"
    }
  },
  "cells": [
    {
      "cell_type": "markdown",
      "metadata": {
        "id": "view-in-github",
        "colab_type": "text"
      },
      "source": [
        "<a href=\"https://colab.research.google.com/github/harjeet88/google_collab/blob/main/spark_exmples/consective_numbers.ipynb\" target=\"_parent\"><img src=\"https://colab.research.google.com/assets/colab-badge.svg\" alt=\"Open In Colab\"/></a>"
      ]
    },
    {
      "cell_type": "code",
      "source": [
        "from google.colab import drive\n",
        "drive.mount('/content/drive')"
      ],
      "metadata": {
        "colab": {
          "base_uri": "https://localhost:8080/"
        },
        "id": "8F1kC7EGR7LY",
        "outputId": "182cc81d-827b-41d3-c45d-8c04e20d193f"
      },
      "execution_count": 1,
      "outputs": [
        {
          "output_type": "stream",
          "name": "stdout",
          "text": [
            "Mounted at /content/drive\n"
          ]
        }
      ]
    },
    {
      "cell_type": "code",
      "source": [
        "!chmod -R +x /content/drive/MyDrive/installs/"
      ],
      "metadata": {
        "id": "IrXNe2xuSQ_h"
      },
      "execution_count": 2,
      "outputs": []
    },
    {
      "cell_type": "code",
      "source": [
        "import os\n",
        "java_path = '/content/drive/MyDrive/installs/jdk-11.0.2/'\n",
        "os.environ['JAVA_HOME'] = java_path\n",
        "os.environ['PATH'] = os.environ['JAVA_HOME'] + '/bin:' + os.environ['PATH']\n",
        "# Verify installation\n",
        "!java -version\n",
        "!which java"
      ],
      "metadata": {
        "colab": {
          "base_uri": "https://localhost:8080/"
        },
        "id": "lX0o8H34SpgU",
        "outputId": "abadc3ed-8757-4bbf-d5d1-12764a205004"
      },
      "execution_count": 3,
      "outputs": [
        {
          "output_type": "stream",
          "name": "stdout",
          "text": [
            "openjdk version \"11.0.2\" 2019-01-15\n",
            "OpenJDK Runtime Environment 18.9 (build 11.0.2+9)\n",
            "OpenJDK 64-Bit Server VM 18.9 (build 11.0.2+9, mixed mode)\n",
            "/content/drive/MyDrive/installs/jdk-11.0.2//bin/java\n"
          ]
        }
      ]
    },
    {
      "cell_type": "code",
      "execution_count": 4,
      "metadata": {
        "id": "0F9G3_cJRrDE"
      },
      "outputs": [],
      "source": [
        "import pyspark\n",
        "import os\n",
        "java_path = '/content/drive/MyDrive/installs/jdk-11.0.2/'\n",
        "os.environ['JAVA_HOME'] = java_path\n",
        "os.environ[\"SPARK_HOME\"] = \"drive/MyDrive/installs/spark-3.5.1-bin-hadoop3\"\n",
        "os.environ[\"PYSPARK_PYTHON\"] = \"python3\"\n",
        "os.environ[\"PYSPARK_DRIVER_PYTHON\"] = \"python3\""
      ]
    },
    {
      "cell_type": "code",
      "source": [
        "import sys\n",
        "sys.path.append('/content/drive/MyDrive/installs/py_package') # Replace with your actual path"
      ],
      "metadata": {
        "id": "BjU_YCRVRyvc"
      },
      "execution_count": 5,
      "outputs": []
    },
    {
      "cell_type": "code",
      "source": [
        "import findspark\n",
        "findspark.init()"
      ],
      "metadata": {
        "id": "GwqYDAhmSI3y"
      },
      "execution_count": 6,
      "outputs": []
    },
    {
      "cell_type": "code",
      "source": [
        "from pyspark.sql import SparkSession\n",
        "MAX_MEMORY=\"8g\"\n",
        "maven_coords = [\n",
        "    \"org.apache.spark:spark-avro_2.12:3.2.1\",\n",
        "    \"io.delta:delta-core_2.12:2.0.0rc1\",\n",
        "    \"org.xerial:sqlite-jdbc:3.36.0.3\",\n",
        "    \"graphframes:graphframes:0.8.2-spark3.2-s_2.12\",\n",
        "    \"com.acervera.osm4scala:osm4scala-spark3-shaded_2.12:1.0.8\",\n",
        "]\n",
        "\n",
        "spark = (pyspark.sql.SparkSession.builder.appName(\"MyApp\")\n",
        "    .config(\"spark.jars.packages\", \",\".join(maven_coords))\n",
        "    .config(\"spark.sql.extensions\", \"io.delta.sql.DeltaSparkSessionExtension\")\n",
        "    .config(\"spark.sql.catalog.spark_catalog\", \"org.apache.spark.sql.delta.catalog.DeltaCatalog\")\n",
        "    .config(\"spark.executor.memory\", MAX_MEMORY)\n",
        "    .config(\"spark.driver.memory\", MAX_MEMORY)\n",
        "    .enableHiveSupport()\n",
        "    .getOrCreate()\n",
        "    )"
      ],
      "metadata": {
        "id": "yCMoU01-SLUc"
      },
      "execution_count": 7,
      "outputs": []
    },
    {
      "cell_type": "code",
      "source": [
        "spark"
      ],
      "metadata": {
        "colab": {
          "base_uri": "https://localhost:8080/",
          "height": 221
        },
        "id": "nApQnNgqShB-",
        "outputId": "b9bcfd23-bcc3-4be7-c6ef-ac22a231373d"
      },
      "execution_count": 8,
      "outputs": [
        {
          "output_type": "execute_result",
          "data": {
            "text/plain": [
              "<pyspark.sql.session.SparkSession at 0x7b22842163e0>"
            ],
            "text/html": [
              "\n",
              "            <div>\n",
              "                <p><b>SparkSession - hive</b></p>\n",
              "                \n",
              "        <div>\n",
              "            <p><b>SparkContext</b></p>\n",
              "\n",
              "            <p><a href=\"http://9b0ab5b12431:4040\">Spark UI</a></p>\n",
              "\n",
              "            <dl>\n",
              "              <dt>Version</dt>\n",
              "                <dd><code>v3.5.1</code></dd>\n",
              "              <dt>Master</dt>\n",
              "                <dd><code>local[*]</code></dd>\n",
              "              <dt>AppName</dt>\n",
              "                <dd><code>MyApp</code></dd>\n",
              "            </dl>\n",
              "        </div>\n",
              "        \n",
              "            </div>\n",
              "        "
            ]
          },
          "metadata": {},
          "execution_count": 8
        }
      ]
    },
    {
      "cell_type": "code",
      "source": [
        "%%writefile /content/drive/MyDrive/data/leetcode_sql180/increment_data1.csv\n",
        "id,num\n",
        "1,1\n",
        "2,1\n",
        "3,1\n",
        "4,9\n",
        "5,2\n",
        "6,1\n",
        "7,8\n",
        "8,4\n",
        "9,6\n",
        "10,10\n",
        "11,10\n",
        "12,10"
      ],
      "metadata": {
        "colab": {
          "base_uri": "https://localhost:8080/"
        },
        "id": "iK2Vmi8SFIAm",
        "outputId": "fe0a0c1b-5458-4454-f8be-ef8377580465"
      },
      "execution_count": 32,
      "outputs": [
        {
          "output_type": "stream",
          "name": "stdout",
          "text": [
            "Overwriting /content/drive/MyDrive/data/leetcode_sql180/increment_data1.csv\n"
          ]
        }
      ]
    },
    {
      "cell_type": "code",
      "source": [
        "from pyspark.sql.functions import col"
      ],
      "metadata": {
        "id": "UaA6E_XAGVsF"
      },
      "execution_count": 27,
      "outputs": []
    },
    {
      "cell_type": "code",
      "source": [
        "df=spark.read.csv(\"/content/drive/MyDrive/data/leetcode_sql180/increment_data1.csv\",inferSchema=True,header=True)"
      ],
      "metadata": {
        "id": "zS6kO6m0FKn7"
      },
      "execution_count": 28,
      "outputs": []
    },
    {
      "cell_type": "code",
      "source": [
        "from os.path import join\n",
        "from ast import alias\n",
        "df1 = df.alias(\"a\").join(df.alias(\"b\"),col(\"a.id\" )== col(\"b.id\") + 1) \\\n",
        "          .join(df.alias(\"c\"),col(\"a.id\") == col(\"c.id\") -1)\n",
        "df1.where((col(\"a.num\") == col(\"b.num\")) & (col(\"a.num\")==col(\"c.num\"))).select(\"a.num\").show()"
      ],
      "metadata": {
        "colab": {
          "base_uri": "https://localhost:8080/"
        },
        "id": "OgA4iQhvFhDF",
        "outputId": "6468f503-51f7-4e0d-bbbb-dbbd60099d77"
      },
      "execution_count": 29,
      "outputs": [
        {
          "output_type": "stream",
          "name": "stdout",
          "text": [
            "+---+\n",
            "|num|\n",
            "+---+\n",
            "|  1|\n",
            "| 10|\n",
            "+---+\n",
            "\n"
          ]
        }
      ]
    },
    {
      "cell_type": "markdown",
      "source": [
        "#Follower count\n",
        "https://leetcode.com/problems/find-followers-count/description/?envType=study-plan-v2&envId=top-sql-50"
      ],
      "metadata": {
        "id": "whX7BHxaICJU"
      }
    },
    {
      "cell_type": "code",
      "source": [
        "%%writefile /content/drive/MyDrive/data/leetcode_sql180/follower_count.csv\n",
        "user_id,follower_id\n",
        "0,1\n",
        "1,0\n",
        "2,0\n",
        "2,1\n",
        "2,0\n",
        "3,1\n",
        "3,2\n",
        "4,0\n",
        "4,1\n",
        "4,2\n",
        "4,3\n",
        "5,0\n",
        "5,1\n",
        "5,2\n",
        "5,3\n",
        "5,4\n",
        "6,0\n",
        "6,1\n",
        "6,2\n",
        "6,3\n",
        "6,4\n",
        "6,5\n",
        "7,0\n",
        "7,1\n",
        "7,2\n",
        "7,3\n",
        "7,4\n",
        "7,5\n",
        "7,6\n",
        "8,0\n",
        "8,1\n",
        "8,2\n",
        "8,3\n",
        "8,4\n",
        "8,5\n",
        "8,6\n",
        "8,7\n",
        "9,0\n",
        "9,1\n",
        "9,2\n",
        "9,3\n",
        "9,4\n",
        "9,5\n",
        "9,6\n",
        "9,7\n",
        "9,8\n",
        "10,0\n",
        "10,1\n",
        "10,2\n",
        "10,3\n",
        "10,4\n",
        "10,5\n",
        "10,6\n",
        "10,7\n",
        "10,8\n",
        "10,9\n",
        "11,0\n",
        "11,1\n",
        "11,2\n",
        "11,3\n",
        "11,4\n",
        "11,5\n",
        "11,6\n",
        "11,7\n",
        "11,8\n",
        "11,9\n",
        "11,10\n",
        "12,0\n",
        "12,1\n",
        "12,2\n",
        "12,3\n",
        "12,4\n",
        "12,5\n",
        "12,6\n",
        "12,7\n",
        "12,8\n",
        "12,9\n",
        "12,10\n",
        "12,11\n",
        "13,0\n",
        "13,1\n",
        "13,2\n",
        "13,3\n",
        "13,4\n",
        "13,5\n",
        "13,6\n",
        "13,7\n",
        "13,8\n",
        "13,9\n",
        "13,10\n",
        "13,11\n",
        "13,12\n",
        "14,0\n",
        "14,1\n",
        "14,2\n",
        "14,3\n",
        "14,4\n",
        "14,5\n",
        "14,6\n",
        "14,7\n",
        "14,8\n",
        "14,9\n",
        "14,10\n",
        "14,11\n",
        "14,12\n",
        "14,13\n",
        "15,0\n",
        "15,1\n",
        "15,2\n",
        "15,3\n",
        "15,4\n",
        "15,5\n",
        "15,6\n",
        "15,7\n",
        "15,8\n",
        "15,9\n",
        "15,10\n",
        "15,11\n",
        "15,12\n",
        "15,13\n",
        "15,14\n",
        "16,0\n",
        "16,1\n",
        "16,2\n",
        "16,3\n",
        "16,4\n",
        "16,5\n",
        "16,6\n",
        "16,7\n",
        "16,8\n",
        "16,9\n",
        "16,10\n",
        "16,11\n",
        "16,12\n",
        "16,13\n",
        "16,14\n",
        "16,15\n",
        "17,0\n",
        "17,1\n",
        "17,2\n",
        "17,3\n",
        "17,4\n",
        "17,5\n",
        "17,6\n",
        "17,7\n",
        "17,8\n",
        "17,9\n",
        "17,10\n",
        "17,11\n",
        "17,12\n",
        "17,13\n",
        "17,14\n",
        "17,15\n",
        "17,16\n",
        "18,0\n",
        "18,1\n",
        "18,2\n",
        "18,3\n",
        "18,4\n",
        "18,5\n",
        "18,6\n",
        "18,7\n",
        "18,8\n",
        "18,9\n",
        "18,10\n",
        "18,11\n",
        "18,12\n",
        "18,13\n",
        "18,14\n",
        "18,15\n",
        "18,16\n",
        "18,17\n",
        "19,0\n",
        "19,1\n",
        "19,2\n",
        "19,3\n",
        "19,4\n",
        "19,5\n",
        "19,6\n",
        "19,7\n",
        "19,8\n",
        "19,9\n",
        "19,10\n",
        "19,11\n",
        "19,12\n",
        "19,13\n",
        "19,14\n",
        "19,15\n",
        "19,16\n",
        "19,17\n",
        "19,18\n",
        "20,0\n",
        "20,1\n",
        "20,2\n",
        "20,3\n",
        "20,4\n",
        "20,5\n",
        "20,6\n",
        "20,7\n",
        "20,8\n",
        "20,9\n",
        "20,10\n",
        "20,11\n",
        "20,12\n",
        "20,13\n",
        "20,14\n",
        "20,15\n",
        "20,16\n",
        "20,17\n",
        "20,18\n",
        "20,19\n",
        "21,0\n",
        "21,1\n",
        "21,2\n",
        "21,3\n",
        "21,4\n",
        "21,5\n",
        "21,6\n",
        "21,7\n",
        "21,8\n",
        "21,9\n",
        "21,10\n",
        "21,11\n",
        "21,12\n",
        "21,13\n",
        "21,14\n",
        "21,15\n",
        "21,16\n",
        "21,17\n",
        "21,18\n",
        "21,19\n",
        "21,20\n",
        "22,0\n",
        "22,1\n",
        "22,2\n",
        "22,3\n",
        "22,4\n",
        "22,5\n",
        "22,6\n",
        "22,7\n",
        "22,8\n",
        "22,9\n",
        "22,10\n",
        "22,11\n",
        "22,12\n",
        "22,13\n",
        "22,14\n",
        "22,15\n",
        "22,16\n",
        "22,17\n",
        "22,18\n",
        "22,19\n",
        "22,20\n",
        "22,21\n",
        "23,0\n",
        "23,1\n",
        "23,2\n",
        "23,3\n",
        "23,4\n",
        "23,5\n",
        "23,6\n",
        "23,7\n",
        "23,8\n",
        "23,9\n",
        "23,10\n",
        "23,11\n",
        "23,12\n",
        "23,13\n",
        "23,14\n",
        "23,15\n",
        "23,16\n",
        "23,17\n",
        "23,18\n",
        "23,19\n",
        "23,20\n",
        "23,21\n",
        "23,22\n",
        "24,0\n",
        "24,1\n",
        "24,2\n",
        "24,3\n",
        "24,4\n",
        "24,5\n",
        "24,6\n",
        "24,7\n",
        "24,8\n",
        "24,9\n",
        "24,10\n",
        "24,11\n",
        "24,12\n",
        "24,13\n",
        "24,14\n",
        "24,15\n",
        "24,16\n",
        "24,17\n",
        "24,18\n",
        "24,19\n",
        "24,20\n",
        "24,21\n",
        "24,22\n",
        "24,23\n",
        "25,0\n",
        "25,1\n",
        "25,2\n",
        "25,3\n",
        "25,4\n",
        "25,5\n",
        "25,6\n",
        "25,7\n",
        "25,8\n",
        "25,9\n",
        "25,10\n",
        "25,11\n",
        "25,12\n",
        "25,13\n",
        "25,14\n",
        "25,15\n",
        "25,16\n",
        "25,17\n",
        "25,18\n",
        "25,19\n",
        "25,20\n",
        "25,21\n",
        "25,22\n",
        "25,23\n",
        "25,24\n",
        "26,0\n",
        "26,1\n",
        "26,2\n",
        "26,3\n",
        "26,4\n",
        "26,5\n",
        "26,6\n",
        "26,7\n",
        "26,8\n",
        "26,9\n",
        "26,10\n",
        "26,11\n",
        "26,12\n",
        "26,13\n",
        "26,14\n",
        "26,15\n",
        "26,16\n",
        "26,17\n",
        "26,18\n",
        "26,19\n",
        "26,20\n",
        "26,21\n",
        "26,22\n",
        "26,23\n",
        "26,24\n",
        "27,25\n",
        "27,0\n",
        "27,1\n",
        "27,2\n",
        "27,3\n",
        "27,4\n",
        "27,5\n",
        "27,6\n",
        "27,7\n",
        "27,8\n",
        "27,9\n",
        "27,10\n",
        "27,11\n",
        "27,12\n",
        "27,13\n",
        "27,14\n",
        "27,15\n",
        "27,16\n",
        "27,17\n",
        "27,18\n",
        "27,19\n",
        "27,20\n",
        "27,21\n",
        "27,22\n",
        "27,23\n",
        "27,24\n",
        "27,25\n",
        "27,26\n",
        "28,0\n",
        "28,1\n",
        "28,2\n",
        "28,3\n",
        "28,4\n",
        "28,5\n",
        "28,6"
      ],
      "metadata": {
        "colab": {
          "base_uri": "https://localhost:8080/"
        },
        "id": "nxvww_XPIBGf",
        "outputId": "05d5ad09-2ff1-4507-e07c-c26dd1cc649b"
      },
      "execution_count": 40,
      "outputs": [
        {
          "output_type": "stream",
          "name": "stdout",
          "text": [
            "Overwriting /content/drive/MyDrive/data/leetcode_sql180/follower_count.csv\n"
          ]
        }
      ]
    },
    {
      "cell_type": "code",
      "source": [
        "df = spark.read.csv(\"/content/drive/MyDrive/data/leetcode_sql180/follower_count.csv\",inferSchema=True,header=True)"
      ],
      "metadata": {
        "id": "iZF6nLDuIbTy"
      },
      "execution_count": 41,
      "outputs": []
    },
    {
      "cell_type": "code",
      "source": [
        "df.groupBy(\"user_id\").count().orderBy(\"user_id\").show()"
      ],
      "metadata": {
        "colab": {
          "base_uri": "https://localhost:8080/"
        },
        "id": "fApUhwjfI1ZG",
        "outputId": "e3ab2027-6c64-48b6-e652-e2fbfe1683f6"
      },
      "execution_count": 42,
      "outputs": [
        {
          "output_type": "stream",
          "name": "stdout",
          "text": [
            "+-------+-----+\n",
            "|user_id|count|\n",
            "+-------+-----+\n",
            "|      0|    1|\n",
            "|      1|    1|\n",
            "|      2|    3|\n",
            "|      3|    2|\n",
            "|      4|    4|\n",
            "|      5|    5|\n",
            "|      6|    6|\n",
            "|      7|    7|\n",
            "|      8|    8|\n",
            "|      9|    9|\n",
            "|     10|   10|\n",
            "|     11|   11|\n",
            "|     12|   12|\n",
            "|     13|   13|\n",
            "|     14|   14|\n",
            "|     15|   15|\n",
            "|     16|   16|\n",
            "|     17|   17|\n",
            "|     18|   18|\n",
            "|     19|   19|\n",
            "+-------+-----+\n",
            "only showing top 20 rows\n",
            "\n"
          ]
        }
      ]
    },
    {
      "cell_type": "markdown",
      "source": [
        "# My Number\n",
        "https://leetcode.com/problems/biggest-single-number/description/?envType=study-plan-v2&envId=top-sql-50"
      ],
      "metadata": {
        "id": "Li9YX2tZJ5xQ"
      }
    },
    {
      "cell_type": "code",
      "source": [
        "%%writefile /content/drive/MyDrive/data/leetcode_sql180/myNumber.csv\n",
        "num\n",
        "8\n",
        "8\n",
        "3\n",
        "3\n",
        "1\n",
        "4\n",
        "5\n",
        "6"
      ],
      "metadata": {
        "colab": {
          "base_uri": "https://localhost:8080/"
        },
        "id": "64an6wevI3jV",
        "outputId": "203fac63-d35b-4453-daa6-57af40e3e603"
      },
      "execution_count": 45,
      "outputs": [
        {
          "output_type": "stream",
          "name": "stdout",
          "text": [
            "Writing /content/drive/MyDrive/data/leetcode_sql180/myNumber.csv\n"
          ]
        }
      ]
    },
    {
      "cell_type": "code",
      "source": [
        "df=spark.read.csv(\"/content/drive/MyDrive/data/leetcode_sql180/myNumber.csv\",inferSchema=True,header=True)\n",
        "df.show()"
      ],
      "metadata": {
        "id": "hbAThZDiJ-DI",
        "outputId": "06095334-9042-416c-8d14-e1b9d9dcc7e5",
        "colab": {
          "base_uri": "https://localhost:8080/"
        }
      },
      "execution_count": 46,
      "outputs": [
        {
          "output_type": "stream",
          "name": "stdout",
          "text": [
            "+---+\n",
            "|num|\n",
            "+---+\n",
            "|  8|\n",
            "|  8|\n",
            "|  3|\n",
            "|  3|\n",
            "|  1|\n",
            "|  4|\n",
            "|  5|\n",
            "|  6|\n",
            "+---+\n",
            "\n"
          ]
        }
      ]
    },
    {
      "cell_type": "code",
      "source": [
        "df.groupBy(\"num\").count().where(\"count=1\").orderBy(\"num\",ascending=False).limit(1).select(\"num\").show()"
      ],
      "metadata": {
        "id": "OkavjD3aKMWx",
        "outputId": "ca2a53e9-8004-46e4-882c-2974359d4940",
        "colab": {
          "base_uri": "https://localhost:8080/"
        }
      },
      "execution_count": 61,
      "outputs": [
        {
          "output_type": "stream",
          "name": "stdout",
          "text": [
            "+---+\n",
            "|num|\n",
            "+---+\n",
            "|  6|\n",
            "+---+\n",
            "\n"
          ]
        }
      ]
    },
    {
      "cell_type": "markdown",
      "source": [
        "#Product Price at given date\n",
        "https://leetcode.com/problems/product-price-at-a-given-date?envType=study-plan-v2&envId=top-sql-50"
      ],
      "metadata": {
        "id": "3Wjehn7rLqqR"
      }
    },
    {
      "cell_type": "code",
      "source": [
        "%%writefile /content/drive/MyDrive/data/leetcode_sql180/product_prices.csv\n",
        "product_id,new_price,change_date\n",
        "1,20,2019-08-14\n",
        "2,50,2019-08-14\n",
        "1,30,2019-08-15\n",
        "1,35,2019-08-16\n",
        "2,65,2019-08-17\n",
        "3,20,2019-08-18\n",
        "4,5,2019-08-15"
      ],
      "metadata": {
        "id": "KAlPo-HuLgvs",
        "outputId": "4454a255-b77b-46f2-afa1-bf7ef925a90b",
        "colab": {
          "base_uri": "https://localhost:8080/"
        }
      },
      "execution_count": 90,
      "outputs": [
        {
          "output_type": "stream",
          "name": "stdout",
          "text": [
            "Overwriting /content/drive/MyDrive/data/leetcode_sql180/product_prices.csv\n"
          ]
        }
      ]
    },
    {
      "cell_type": "code",
      "source": [
        "df=spark.read.csv(\"/content/drive/MyDrive/data/leetcode_sql180/product_prices.csv\",inferSchema=True,header=True)"
      ],
      "metadata": {
        "id": "zoY5eWQiL5YY"
      },
      "execution_count": 91,
      "outputs": []
    },
    {
      "cell_type": "code",
      "source": [
        "df1= df.where(\"change_date <= '2019-08-16'\")"
      ],
      "metadata": {
        "id": "JtwIUkqyMAs_"
      },
      "execution_count": 92,
      "outputs": []
    },
    {
      "cell_type": "code",
      "source": [
        "from pyspark.sql.window import Window\n",
        "from pyspark.sql import functions as F"
      ],
      "metadata": {
        "id": "JUIJIoaWMR5-"
      },
      "execution_count": 93,
      "outputs": []
    },
    {
      "cell_type": "code",
      "source": [
        "from pyspark.sql.functions import *"
      ],
      "metadata": {
        "id": "TSBZq-KKjmhq"
      },
      "execution_count": 94,
      "outputs": []
    },
    {
      "cell_type": "code",
      "source": [
        "windowSpec = Window.partitionBy(\"product_id\").orderBy(col(\"change_date\").desc())"
      ],
      "metadata": {
        "id": "ZpJxx3mYMvUW"
      },
      "execution_count": 95,
      "outputs": []
    },
    {
      "cell_type": "code",
      "source": [
        "df1 = df1.withColumn(\"row_num\",F.row_number().over(windowSpec))"
      ],
      "metadata": {
        "id": "JzQcocbnM6oL"
      },
      "execution_count": 96,
      "outputs": []
    },
    {
      "cell_type": "code",
      "source": [
        "df1.show()"
      ],
      "metadata": {
        "id": "xC_lU-x9N1uZ",
        "outputId": "ddc1beb6-4c5f-4a10-e24b-7ca60a13ac91",
        "colab": {
          "base_uri": "https://localhost:8080/"
        }
      },
      "execution_count": 97,
      "outputs": [
        {
          "output_type": "stream",
          "name": "stdout",
          "text": [
            "+----------+---------+-----------+-------+\n",
            "|product_id|new_price|change_date|row_num|\n",
            "+----------+---------+-----------+-------+\n",
            "|         1|       35| 2019-08-16|      1|\n",
            "|         1|       30| 2019-08-15|      2|\n",
            "|         1|       20| 2019-08-14|      3|\n",
            "|         2|       50| 2019-08-14|      1|\n",
            "|         4|        5| 2019-08-15|      1|\n",
            "+----------+---------+-----------+-------+\n",
            "\n"
          ]
        }
      ]
    },
    {
      "cell_type": "code",
      "source": [
        "df2 = df1.where(\"row_num=1\")"
      ],
      "metadata": {
        "id": "Ee1L3CsrNqw1"
      },
      "execution_count": 98,
      "outputs": []
    },
    {
      "cell_type": "code",
      "source": [
        "df.groupBy(\"product_id\").select(\"product_id,MAX(IF(change_date>'2019-08-16',10,new_price))\").show()"
      ],
      "metadata": {
        "id": "kpeLAmr-Nt4m",
        "outputId": "6ace8d0b-c969-4e65-ba3c-a0694b8fe08e",
        "colab": {
          "base_uri": "https://localhost:8080/",
          "height": 144
        }
      },
      "execution_count": 85,
      "outputs": [
        {
          "output_type": "error",
          "ename": "AttributeError",
          "evalue": "'GroupedData' object has no attribute 'select'",
          "traceback": [
            "\u001b[0;31m---------------------------------------------------------------------------\u001b[0m",
            "\u001b[0;31mAttributeError\u001b[0m                            Traceback (most recent call last)",
            "\u001b[0;32m<ipython-input-85-efc2c9138a0a>\u001b[0m in \u001b[0;36m<cell line: 1>\u001b[0;34m()\u001b[0m\n\u001b[0;32m----> 1\u001b[0;31m \u001b[0mdf\u001b[0m\u001b[0;34m.\u001b[0m\u001b[0mgroupBy\u001b[0m\u001b[0;34m(\u001b[0m\u001b[0;34m\"product_id\"\u001b[0m\u001b[0;34m)\u001b[0m\u001b[0;34m.\u001b[0m\u001b[0mselect\u001b[0m\u001b[0;34m(\u001b[0m\u001b[0;34m\"product_id,MAX(IF(change_date>'2019-08-16',10,new_price))\"\u001b[0m\u001b[0;34m)\u001b[0m\u001b[0;34m.\u001b[0m\u001b[0mshow\u001b[0m\u001b[0;34m(\u001b[0m\u001b[0;34m)\u001b[0m\u001b[0;34m\u001b[0m\u001b[0;34m\u001b[0m\u001b[0m\n\u001b[0m",
            "\u001b[0;31mAttributeError\u001b[0m: 'GroupedData' object has no attribute 'select'"
          ]
        }
      ]
    },
    {
      "cell_type": "code",
      "source": [
        "df.groupBy(\"product_id\").agg(max(when(col(\"change_date\") <= \"2019-08-16\", col(\"new_price\")).otherwise(10)).alias(\"latest_price\")) \\\n",
        "  .show()"
      ],
      "metadata": {
        "id": "kDiCDBpdPprZ",
        "outputId": "d09cd88a-cab4-4c04-b3b7-d04bb084966c",
        "colab": {
          "base_uri": "https://localhost:8080/"
        }
      },
      "execution_count": 99,
      "outputs": [
        {
          "output_type": "stream",
          "name": "stdout",
          "text": [
            "+----------+------------+\n",
            "|product_id|latest_price|\n",
            "+----------+------------+\n",
            "|         1|          35|\n",
            "|         3|          10|\n",
            "|         4|           5|\n",
            "|         2|          50|\n",
            "+----------+------------+\n",
            "\n"
          ]
        }
      ]
    },
    {
      "cell_type": "code",
      "source": [
        "%%writefile /content/drive/MyDrive/data/leetcode_sql180/last_person_fit.csv\n",
        "person_id,person_name,weight,turn\n",
        "5,Alice,250,1\n",
        "4,Bob,175,5\n",
        "3,Alex,350,2\n",
        "6,John Cena,400,3\n",
        "1,Winston,500,6\n",
        "2,Marie,200,4"
      ],
      "metadata": {
        "id": "43S73xFtjclc",
        "outputId": "8ee6ad89-f4a2-4903-b4e2-2080ef16cb0c",
        "colab": {
          "base_uri": "https://localhost:8080/"
        }
      },
      "execution_count": 100,
      "outputs": [
        {
          "output_type": "stream",
          "name": "stdout",
          "text": [
            "Writing /content/drive/MyDrive/data/leetcode_sql180/last_person_fit.csv\n"
          ]
        }
      ]
    },
    {
      "cell_type": "code",
      "source": [
        "df=spark.read.csv(\"/content/drive/MyDrive/data/leetcode_sql180/last_person_fit.csv\",inferSchema=True,header=True)"
      ],
      "metadata": {
        "id": "_8IkvFMJ5-Td"
      },
      "execution_count": 101,
      "outputs": []
    },
    {
      "cell_type": "code",
      "source": [
        "df.show()"
      ],
      "metadata": {
        "id": "SMUlzWHQ6Ed-",
        "outputId": "d40b0ccd-7139-4f06-a6b9-6d1c70f5c9e0",
        "colab": {
          "base_uri": "https://localhost:8080/"
        }
      },
      "execution_count": 102,
      "outputs": [
        {
          "output_type": "stream",
          "name": "stdout",
          "text": [
            "+---------+-----------+------+----+\n",
            "|person_id|person_name|weight|turn|\n",
            "+---------+-----------+------+----+\n",
            "|        5|      Alice|   250|   1|\n",
            "|        4|        Bob|   175|   5|\n",
            "|        3|       Alex|   350|   2|\n",
            "|        6|  John Cena|   400|   3|\n",
            "|        1|    Winston|   500|   6|\n",
            "|        2|      Marie|   200|   4|\n",
            "+---------+-----------+------+----+\n",
            "\n"
          ]
        }
      ]
    },
    {
      "cell_type": "code",
      "source": [
        "df.withColumn(\"cum_weight\",sum(\"weight\").over(Window.orderBy(\"turn\"))).where(col(\"cum_weight\")<=1000).orderBy(col(\"turn\").desc()).limit(1).select(\"person_name\").show()"
      ],
      "metadata": {
        "id": "gX_EbPC66FV9",
        "outputId": "df8c9845-52b6-432e-99ec-96c59ac2bfbe",
        "colab": {
          "base_uri": "https://localhost:8080/"
        }
      },
      "execution_count": 105,
      "outputs": [
        {
          "output_type": "stream",
          "name": "stdout",
          "text": [
            "+-----------+\n",
            "|person_name|\n",
            "+-----------+\n",
            "|  John Cena|\n",
            "+-----------+\n",
            "\n"
          ]
        }
      ]
    },
    {
      "cell_type": "code",
      "source": [
        "df_joined = df.alias(\"q1\").join(df.alias(\"q2\"), on=col(\"q1.turn\") >= col(\"q2.turn\"))\n",
        "\n",
        "# Group by turn, calculate cumulative weight, and filter\n",
        "result_df = df_joined.groupBy(\"q1.turn\") \\\n",
        "                     .agg(sum(\"q2.weight\").alias(\"cumulative_weight\")) \\\n",
        "                     .filter(col(\"cumulative_weight\") <= 1000) \\\n",
        "                     .orderBy(col(\"cumulative_weight\").desc()) \\\n",
        "                     .limit(1) \\\n",
        "                     .join(df.alias(\"q3\"), on=col(\"q1.turn\") == col(\"q3.turn\")) \\\n",
        "                     .select(\"q3.person_name\")\n",
        "\n",
        "# Print the result\n",
        "result_df.show()"
      ],
      "metadata": {
        "id": "S0XsUCQf6mhr",
        "outputId": "a5e07b06-795d-4bf7-8bd6-014c9773c6f0",
        "colab": {
          "base_uri": "https://localhost:8080/"
        }
      },
      "execution_count": 106,
      "outputs": [
        {
          "output_type": "stream",
          "name": "stdout",
          "text": [
            "+-----------+\n",
            "|person_name|\n",
            "+-----------+\n",
            "|  John Cena|\n",
            "+-----------+\n",
            "\n"
          ]
        }
      ]
    },
    {
      "cell_type": "code",
      "source": [],
      "metadata": {
        "id": "_6hxxO1M9hmk"
      },
      "execution_count": null,
      "outputs": []
    }
  ]
}